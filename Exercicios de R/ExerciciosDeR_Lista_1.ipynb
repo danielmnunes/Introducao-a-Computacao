{
  "nbformat": 4,
  "nbformat_minor": 0,
  "metadata": {
    "colab": {
      "name": "ExerciciosDeR-Lista 1.ipynb",
      "provenance": []
    },
    "kernelspec": {
      "name": "ir",
      "display_name": "R"
    }
  },
  "cells": [
    {
      "cell_type": "markdown",
      "metadata": {
        "id": "WTBYy8qqGXPb"
      },
      "source": [
        "<p><img alt=\"Colaboratory logo\" height=\"150px\" src=\"https://blog-static.infra.grancursosonline.com.br/wp-content/uploads/2015/09/03174643/UFC2.png\" align=\"right\" hspace=\"30px\" vspace=\"0px\"></p>  \n",
        "\n",
        "<h1>\n",
        "<strong> Universidade Federal do Ceará </strong>  <br>\n",
        "Bacheralado em Matemática Industrial  <br>\n",
        "Exercícios de R - Lista 1 <br>\n",
        "Disciplina: Introdução à Computação  <br>\n",
        "Professor: Ronald Targino <br>\n",
        "Aluno: Daniel Magalhães Nunes\n",
        "</h1>"
      ]
    },
    {
      "cell_type": "code",
      "metadata": {
        "id": "wxe1T8-wAAw_"
      },
      "source": [
        "rm(list=ls())"
      ],
      "execution_count": 3,
      "outputs": []
    },
    {
      "cell_type": "code",
      "metadata": {
        "id": "yk8YGCMJAlPj"
      },
      "source": [
        ""
      ],
      "execution_count": null,
      "outputs": []
    }
  ]
}