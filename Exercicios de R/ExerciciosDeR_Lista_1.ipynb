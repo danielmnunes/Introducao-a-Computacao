{
  "nbformat": 4,
  "nbformat_minor": 0,
  "metadata": {
    "colab": {
      "name": "ExerciciosDeR-Lista 1.ipynb",
      "provenance": [],
      "include_colab_link": true
    },
    "kernelspec": {
      "name": "ir",
      "display_name": "R"
    }
  },
  "cells": [
    {
      "cell_type": "markdown",
      "metadata": {
        "id": "view-in-github",
        "colab_type": "text"
      },
      "source": [
        "<a href=\"https://colab.research.google.com/github/danielmnunes/Introducao-a-Computacao/blob/main/Exercicios%20de%20R/ExerciciosDeR_Lista_1.ipynb\" target=\"_parent\"><img src=\"https://colab.research.google.com/assets/colab-badge.svg\" alt=\"Open In Colab\"/></a>"
      ]
    },
    {
      "cell_type": "markdown",
      "metadata": {
        "id": "WTBYy8qqGXPb"
      },
      "source": [
        "<p><img alt=\"Colaboratory logo\" height=\"150px\" src=\"https://blog-static.infra.grancursosonline.com.br/wp-content/uploads/2015/09/03174643/UFC2.png\" align=\"right\" hspace=\"30px\" vspace=\"0px\"></p>  \n",
        "\n",
        "<h1>\n",
        "<strong> Universidade Federal do Ceará </strong>  <br>\n",
        "Bacheralado em Matemática Industrial  <br>\n",
        "Exercícios de R - Lista 1 <br>\n",
        "Disciplina: Introdução à Computação  <br>\n",
        "Professor: Ronald Targino <br>\n",
        "Aluno: Daniel Magalhães Nunes\n",
        "</h1>"
      ]
    },
    {
      "cell_type": "code",
      "metadata": {
        "id": "wxe1T8-wAAw_"
      },
      "source": [
        "rm(list=ls())"
      ],
      "execution_count": 190,
      "outputs": []
    },
    {
      "cell_type": "markdown",
      "metadata": {
        "id": "DuJtjfWuBbyA"
      },
      "source": [
        "item A"
      ]
    },
    {
      "cell_type": "code",
      "metadata": {
        "colab": {
          "base_uri": "https://localhost:8080/",
          "height": 34
        },
        "id": "s6gKjsNguCX9",
        "outputId": "6fca30fb-8657-4203-b4d7-47f21b85cafc"
      },
      "source": [
        "valor = sample(seq(from = 500, to = 4000, by=100), 100, replace = TRUE)\n",
        "produto = sample( c(\"tv\", \"notebook\", \"impressora\", \"smartphone\"), prob = c(0.3, 0.2, 0.1, 0.4), size = 100, replace = TRUE)\n",
        "quantidade = sample(10:4000, 100)\n",
        "mes = sample(1:12, 100, replace = TRUE)\n",
        "margem = runif(min = 0.01, max = 0.35, n=100)\n",
        "ano = sample(c(2017, 2018, 2019), prob = c(0.5, 0.2, 0.3), 100,replace = TRUE)\n",
        "ls()"
      ],
      "execution_count": 191,
      "outputs": [
        {
          "output_type": "display_data",
          "data": {
            "text/plain": [
              "[1] \"ano\"        \"margem\"     \"mes\"        \"produto\"    \"quantidade\"\n",
              "[6] \"valor\"     "
            ],
            "text/latex": "\\begin{enumerate*}\n\\item 'ano'\n\\item 'margem'\n\\item 'mes'\n\\item 'produto'\n\\item 'quantidade'\n\\item 'valor'\n\\end{enumerate*}\n",
            "text/markdown": "1. 'ano'\n2. 'margem'\n3. 'mes'\n4. 'produto'\n5. 'quantidade'\n6. 'valor'\n\n\n",
            "text/html": [
              "<style>\n",
              ".list-inline {list-style: none; margin:0; padding: 0}\n",
              ".list-inline>li {display: inline-block}\n",
              ".list-inline>li:not(:last-child)::after {content: \"\\00b7\"; padding: 0 .5ex}\n",
              "</style>\n",
              "<ol class=list-inline><li>'ano'</li><li>'margem'</li><li>'mes'</li><li>'produto'</li><li>'quantidade'</li><li>'valor'</li></ol>\n"
            ]
          },
          "metadata": {
            "tags": []
          }
        }
      ]
    },
    {
      "cell_type": "markdown",
      "metadata": {
        "id": "JOppBbUvCOgM"
      },
      "source": [
        "item B"
      ]
    },
    {
      "cell_type": "code",
      "metadata": {
        "id": "ZiOg01TLzL-M",
        "outputId": "71434c2b-024a-4f9f-c0c9-ebe7368556f8",
        "colab": {
          "base_uri": "https://localhost:8080/",
          "height": 34
        }
      },
      "source": [
        "vendas =  data.frame(ano, mes, produto,quantidade, valor, margem)\n",
        "rm(ano, margem, mes, produto, quantidade, valor)\n",
        "ls()"
      ],
      "execution_count": 192,
      "outputs": [
        {
          "output_type": "display_data",
          "data": {
            "text/plain": [
              "[1] \"vendas\""
            ],
            "text/latex": "'vendas'",
            "text/markdown": "'vendas'",
            "text/html": [
              "'vendas'"
            ]
          },
          "metadata": {
            "tags": []
          }
        }
      ]
    },
    {
      "cell_type": "markdown",
      "metadata": {
        "id": "mKVbqonFDNCu"
      },
      "source": [
        "item C/D"
      ]
    },
    {
      "cell_type": "code",
      "metadata": {
        "id": "--8JKQpq0cXY"
      },
      "source": [
        "vendas$lucro = vendas$quantidade *  vendas$valor * vendas$margem"
      ],
      "execution_count": 193,
      "outputs": []
    },
    {
      "cell_type": "code",
      "metadata": {
        "colab": {
          "base_uri": "https://localhost:8080/"
        },
        "id": "kwW2QD_h4DLe",
        "outputId": "6ea7f0c0-954d-4777-8d0b-0a99d6bbb8bb"
      },
      "source": [
        "install.packages(\"tidyverse\");\n",
        "install.packages(\"dplyr\");"
      ],
      "execution_count": 194,
      "outputs": [
        {
          "output_type": "stream",
          "text": [
            "Installing package into ‘/usr/local/lib/R/site-library’\n",
            "(as ‘lib’ is unspecified)\n",
            "\n",
            "Installing package into ‘/usr/local/lib/R/site-library’\n",
            "(as ‘lib’ is unspecified)\n",
            "\n"
          ],
          "name": "stderr"
        }
      ]
    },
    {
      "cell_type": "code",
      "metadata": {
        "id": "kFgjL6m_6F6H"
      },
      "source": [
        "library(dplyr);\n",
        "library(tibble);"
      ],
      "execution_count": 195,
      "outputs": []
    },
    {
      "cell_type": "markdown",
      "metadata": {
        "id": "TX95yuJvD7fd"
      },
      "source": [
        "item E"
      ]
    },
    {
      "cell_type": "code",
      "metadata": {
        "colab": {
          "base_uri": "https://localhost:8080/",
          "height": 190
        },
        "id": "ullzG1Sm6LME",
        "outputId": "dc968095-dacf-4d02-bd09-5b375faf5da9"
      },
      "source": [
        "vendas %>% group_by(ano) %>% summarise( min(lucro) , mean(lucro), median(lucro), max(lucro), sd(lucro))"
      ],
      "execution_count": 196,
      "outputs": [
        {
          "output_type": "display_data",
          "data": {
            "text/plain": [
              "  ano  min(lucro) mean(lucro) median(lucro) max(lucro) sd(lucro)\n",
              "1 2017 30011.305  635814.5    324018.5      3409801    810121.5 \n",
              "2 2018  4221.785  652868.3    412648.9      1747474    602639.1 \n",
              "3 2019 29611.780  799844.3    594264.9      2567858    681892.5 "
            ],
            "text/latex": "A tibble: 3 × 6\n\\begin{tabular}{llllll}\n ano & min(lucro) & mean(lucro) & median(lucro) & max(lucro) & sd(lucro)\\\\\n <dbl> & <dbl> & <dbl> & <dbl> & <dbl> & <dbl>\\\\\n\\hline\n\t 2017 & 30011.305 & 635814.5 & 324018.5 & 3409801 & 810121.5\\\\\n\t 2018 &  4221.785 & 652868.3 & 412648.9 & 1747474 & 602639.1\\\\\n\t 2019 & 29611.780 & 799844.3 & 594264.9 & 2567858 & 681892.5\\\\\n\\end{tabular}\n",
            "text/markdown": "\nA tibble: 3 × 6\n\n| ano &lt;dbl&gt; | min(lucro) &lt;dbl&gt; | mean(lucro) &lt;dbl&gt; | median(lucro) &lt;dbl&gt; | max(lucro) &lt;dbl&gt; | sd(lucro) &lt;dbl&gt; |\n|---|---|---|---|---|---|\n| 2017 | 30011.305 | 635814.5 | 324018.5 | 3409801 | 810121.5 |\n| 2018 |  4221.785 | 652868.3 | 412648.9 | 1747474 | 602639.1 |\n| 2019 | 29611.780 | 799844.3 | 594264.9 | 2567858 | 681892.5 |\n\n",
            "text/html": [
              "<table class=\"dataframe\">\n",
              "<caption>A tibble: 3 × 6</caption>\n",
              "<thead>\n",
              "\t<tr><th scope=col>ano</th><th scope=col>min(lucro)</th><th scope=col>mean(lucro)</th><th scope=col>median(lucro)</th><th scope=col>max(lucro)</th><th scope=col>sd(lucro)</th></tr>\n",
              "\t<tr><th scope=col>&lt;dbl&gt;</th><th scope=col>&lt;dbl&gt;</th><th scope=col>&lt;dbl&gt;</th><th scope=col>&lt;dbl&gt;</th><th scope=col>&lt;dbl&gt;</th><th scope=col>&lt;dbl&gt;</th></tr>\n",
              "</thead>\n",
              "<tbody>\n",
              "\t<tr><td>2017</td><td>30011.305</td><td>635814.5</td><td>324018.5</td><td>3409801</td><td>810121.5</td></tr>\n",
              "\t<tr><td>2018</td><td> 4221.785</td><td>652868.3</td><td>412648.9</td><td>1747474</td><td>602639.1</td></tr>\n",
              "\t<tr><td>2019</td><td>29611.780</td><td>799844.3</td><td>594264.9</td><td>2567858</td><td>681892.5</td></tr>\n",
              "</tbody>\n",
              "</table>\n"
            ]
          },
          "metadata": {
            "tags": []
          }
        }
      ]
    },
    {
      "cell_type": "markdown",
      "metadata": {
        "id": "m1KfyuEkEZEY"
      },
      "source": [
        "item F"
      ]
    },
    {
      "cell_type": "code",
      "metadata": {
        "id": "_KXbP_X5_xol"
      },
      "source": [
        "stats_lucro = vendas %>% group_by(ano) %>% summarise( min(lucro) , mean(lucro), median(lucro), max(lucro), sd(lucro))"
      ],
      "execution_count": 197,
      "outputs": []
    },
    {
      "cell_type": "code",
      "metadata": {
        "id": "0X9Vy8OmJwqz"
      },
      "source": [
        "lucro2017 = vendas %>% filter(ano == 2017)\n",
        "lucro2018 = vendas %>% filter(ano == 2018)\n",
        "lucro2019 = vendas %>% filter(ano == 2019)"
      ],
      "execution_count": 198,
      "outputs": []
    },
    {
      "cell_type": "markdown",
      "metadata": {
        "id": "TAyKdbpGEfMH"
      },
      "source": [
        "item G"
      ]
    },
    {
      "cell_type": "code",
      "metadata": {
        "colab": {
          "base_uri": "https://localhost:8080/",
          "height": 1000
        },
        "id": "hHF-1KJeLP9G",
        "outputId": "bfda7666-9b92-40ae-e666-f495a8d2dffa"
      },
      "source": [
        "hist(lucro2017$lucro)\n",
        "hist(lucro2018$lucro)\n",
        "hist(lucro2019$lucro)"
      ],
      "execution_count": 199,
      "outputs": [
        {
          "output_type": "display_data",
          "data": {
            "image/png": "[encoded data removed]",
            "text/plain": [
              "Plot with title “Histogram of lucro2017$lucro”"
            ]
          },
          "metadata": {
            "tags": [],
            "image/png": {
              "width": 420,
              "height": 420
            }
          }
        },
        {
          "output_type": "display_data",
          "data": {
            "image/png": "[encoded data removed]",
            "text/plain": [
              "Plot with title “Histogram of lucro2018$lucro”"
            ]
          },
          "metadata": {
            "tags": [],
            "image/png": {
              "width": 420,
              "height": 420
            }
          }
        },
        {
          "output_type": "display_data",
          "data": {
            "image/png": "[encoded data removed]",
            "text/plain": [
              "Plot with title “Histogram of lucro2019$lucro”"
            ]
          },
          "metadata": {
            "tags": [],
            "image/png": {
              "width": 420,
              "height": 420
            }
          }
        }
      ]
    },
    {
      "cell_type": "code",
      "metadata": {
        "colab": {
          "base_uri": "https://localhost:8080/",
          "height": 437
        },
        "id": "ZHGVQYuMNlN0",
        "outputId": "2115ad1e-642b-4ca3-e4ec-ae245f910224"
      },
      "source": [
        "boxplot(vendas$lucro ~ vendas$ano)"
      ],
      "execution_count": 200,
      "outputs": [
        {
          "output_type": "display_data",
          "data": {
            "image/png": "[encoded data removed]",
            "text/plain": [
              "plot without title"
            ]
          },
          "metadata": {
            "tags": [],
            "image/png": {
              "width": 420,
              "height": 420
            }
          }
        }
      ]
    },
    {
      "cell_type": "markdown",
      "metadata": {
        "id": "97P1ouHQEsvZ"
      },
      "source": [
        "item H"
      ]
    },
    {
      "cell_type": "code",
      "metadata": {
        "id": "_t1EK2yAG7sT",
        "outputId": "e8473921-08d8-44bd-c171-529e7133addc",
        "colab": {
          "base_uri": "https://localhost:8080/",
          "height": 119
        }
      },
      "source": [
        "tabela = table(vendas$produto)\n",
        "prop.table(tabela)\n",
        "margin.table(tabela, 1)"
      ],
      "execution_count": 201,
      "outputs": [
        {
          "output_type": "display_data",
          "data": {
            "text/plain": [
              "\n",
              "impressora   notebook smartphone         tv \n",
              "      0.15       0.19       0.38       0.28 "
            ]
          },
          "metadata": {
            "tags": []
          }
        },
        {
          "output_type": "display_data",
          "data": {
            "text/plain": [
              "\n",
              "impressora   notebook smartphone         tv \n",
              "        15         19         38         28 "
            ]
          },
          "metadata": {
            "tags": []
          }
        }
      ]
    },
    {
      "cell_type": "markdown",
      "metadata": {
        "id": "uYAIbZnIK5pL"
      },
      "source": [
        "item I"
      ]
    },
    {
      "cell_type": "code",
      "metadata": {
        "id": "62tGuR6UHBQR",
        "outputId": "13bbce71-0b25-47ac-bdb7-39474a103b08",
        "colab": {
          "base_uri": "https://localhost:8080/",
          "height": 102
        }
      },
      "source": [
        "xtabs(~ano+produto,data=vendas)"
      ],
      "execution_count": 202,
      "outputs": [
        {
          "output_type": "display_data",
          "data": {
            "text/plain": [
              "      produto\n",
              "ano    impressora notebook smartphone tv\n",
              "  2017         10       11         13 15\n",
              "  2018          2        4          7  4\n",
              "  2019          3        4         18  9"
            ]
          },
          "metadata": {
            "tags": []
          }
        }
      ]
    },
    {
      "cell_type": "markdown",
      "metadata": {
        "id": "yjQWUBRXPu7f"
      },
      "source": [
        "item J"
      ]
    },
    {
      "cell_type": "code",
      "metadata": {
        "id": "9i_aXZE_LCtN",
        "outputId": "6ba264f4-bcbe-4469-e850-4fb9d4fbd72e",
        "colab": {
          "base_uri": "https://localhost:8080/",
          "height": 159
        }
      },
      "source": [
        "tapply(vendas$lucro,list(vendas$ano, vendas$mes),mean, default=0)"
      ],
      "execution_count": 203,
      "outputs": [
        {
          "output_type": "display_data",
          "data": {
            "text/plain": [
              "     1         2         3         4        5           6        7         \n",
              "2017  789424.3  324018.5 1154157.2 655061.7   66521.150 678115.2  248666.51\n",
              "2018       0.0  380590.9       0.0 378114.1    4221.785 209978.0 1717348.43\n",
              "2019 1280182.0 1791298.8  505808.1 353293.4 1373493.035 522742.8   36064.35\n",
              "     8         9         10        11       12       \n",
              "2017  409848.4  384071.9  566477.2 599674.5 178688.37\n",
              "2018 1512379.8  510877.3 1747474.3 399459.8 971666.52\n",
              "2019  346850.0 1706484.0  518526.2 778756.2  46108.26"
            ],
            "text/latex": "A matrix: 3 × 12 of type dbl\n\\begin{tabular}{r|llllllllllll}\n  & 1 & 2 & 3 & 4 & 5 & 6 & 7 & 8 & 9 & 10 & 11 & 12\\\\\n\\hline\n\t2017 &  789424.3 &  324018.5 & 1154157.2 & 655061.7 &   66521.150 & 678115.2 &  248666.51 &  409848.4 &  384071.9 &  566477.2 & 599674.5 & 178688.37\\\\\n\t2018 &       0.0 &  380590.9 &       0.0 & 378114.1 &    4221.785 & 209978.0 & 1717348.43 & 1512379.8 &  510877.3 & 1747474.3 & 399459.8 & 971666.52\\\\\n\t2019 & 1280182.0 & 1791298.8 &  505808.1 & 353293.4 & 1373493.035 & 522742.8 &   36064.35 &  346850.0 & 1706484.0 &  518526.2 & 778756.2 &  46108.26\\\\\n\\end{tabular}\n",
            "text/markdown": "\nA matrix: 3 × 12 of type dbl\n\n| <!--/--> | 1 | 2 | 3 | 4 | 5 | 6 | 7 | 8 | 9 | 10 | 11 | 12 |\n|---|---|---|---|---|---|---|---|---|---|---|---|---|\n| 2017 |  789424.3 |  324018.5 | 1154157.2 | 655061.7 |   66521.150 | 678115.2 |  248666.51 |  409848.4 |  384071.9 |  566477.2 | 599674.5 | 178688.37 |\n| 2018 |       0.0 |  380590.9 |       0.0 | 378114.1 |    4221.785 | 209978.0 | 1717348.43 | 1512379.8 |  510877.3 | 1747474.3 | 399459.8 | 971666.52 |\n| 2019 | 1280182.0 | 1791298.8 |  505808.1 | 353293.4 | 1373493.035 | 522742.8 |   36064.35 |  346850.0 | 1706484.0 |  518526.2 | 778756.2 |  46108.26 |\n\n",
            "text/html": [
              "<table class=\"dataframe\">\n",
              "<caption>A matrix: 3 × 12 of type dbl</caption>\n",
              "<thead>\n",
              "\t<tr><th></th><th scope=col>1</th><th scope=col>2</th><th scope=col>3</th><th scope=col>4</th><th scope=col>5</th><th scope=col>6</th><th scope=col>7</th><th scope=col>8</th><th scope=col>9</th><th scope=col>10</th><th scope=col>11</th><th scope=col>12</th></tr>\n",
              "</thead>\n",
              "<tbody>\n",
              "\t<tr><th scope=row>2017</th><td> 789424.3</td><td> 324018.5</td><td>1154157.2</td><td>655061.7</td><td>  66521.150</td><td>678115.2</td><td> 248666.51</td><td> 409848.4</td><td> 384071.9</td><td> 566477.2</td><td>599674.5</td><td>178688.37</td></tr>\n",
              "\t<tr><th scope=row>2018</th><td>      0.0</td><td> 380590.9</td><td>      0.0</td><td>378114.1</td><td>   4221.785</td><td>209978.0</td><td>1717348.43</td><td>1512379.8</td><td> 510877.3</td><td>1747474.3</td><td>399459.8</td><td>971666.52</td></tr>\n",
              "\t<tr><th scope=row>2019</th><td>1280182.0</td><td>1791298.8</td><td> 505808.1</td><td>353293.4</td><td>1373493.035</td><td>522742.8</td><td>  36064.35</td><td> 346850.0</td><td>1706484.0</td><td> 518526.2</td><td>778756.2</td><td> 46108.26</td></tr>\n",
              "</tbody>\n",
              "</table>\n"
            ]
          },
          "metadata": {
            "tags": []
          }
        }
      ]
    },
    {
      "cell_type": "markdown",
      "metadata": {
        "id": "RcpVOojbP5fz"
      },
      "source": [
        "item K"
      ]
    },
    {
      "cell_type": "code",
      "metadata": {
        "id": "LXWJ7CAWNSwu",
        "outputId": "0d8cf7d9-b73f-4d2d-c661-f228b87c6c7a",
        "colab": {
          "base_uri": "https://localhost:8080/",
          "height": 204
        }
      },
      "source": [
        "tapply(vendas$lucro,vendas$ano, summary , default=0)"
      ],
      "execution_count": 204,
      "outputs": [
        {
          "output_type": "display_data",
          "data": {
            "text/plain": [
              "$`2017`\n",
              "   Min. 1st Qu.  Median    Mean 3rd Qu.    Max. \n",
              "  30011  101706  324018  635814  620692 3409801 \n",
              "\n",
              "$`2018`\n",
              "   Min. 1st Qu.  Median    Mean 3rd Qu.    Max. \n",
              "   4222  276847  412649  652868  785589 1747474 \n",
              "\n",
              "$`2019`\n",
              "   Min. 1st Qu.  Median    Mean 3rd Qu.    Max. \n",
              "  29612  308654  594265  799844 1288526 2567858 \n"
            ]
          },
          "metadata": {
            "tags": []
          }
        }
      ]
    },
    {
      "cell_type": "markdown",
      "metadata": {
        "id": "MsnPQp8VQLsl"
      },
      "source": [
        "item L"
      ]
    },
    {
      "cell_type": "code",
      "metadata": {
        "id": "dKmc47MTcjET",
        "outputId": "b0af3d6b-f284-4988-88f8-caa84d8b4302",
        "colab": {
          "base_uri": "https://localhost:8080/",
          "height": 437
        }
      },
      "source": [
        "tabela2 = data.frame(tapply(vendas$lucro,list(vendas$ano, vendas$mes),mean, default=0))\n",
        "tabela2$mean <- rowMeans(tabela2[,1:12])\n",
        "plot( y=tabela2$mean , x=list(\"2017\", \"2018\", \"2019\"), type = \"l\")"
      ],
      "execution_count": 205,
      "outputs": [
        {
          "output_type": "display_data",
          "data": {
            "image/png": "[encoded data removed]",
            "text/plain": [
              "plot without title"
            ]
          },
          "metadata": {
            "tags": [],
            "image/png": {
              "width": 420,
              "height": 420
            }
          }
        }
      ]
    },
    {
      "cell_type": "markdown",
      "metadata": {
        "id": "nYa5I0djTKG5"
      },
      "source": [
        "item M"
      ]
    },
    {
      "cell_type": "code",
      "metadata": {
        "id": "h0_ucMi0eG8E",
        "outputId": "35bac551-f142-4789-82b0-34eb7e7c0c72",
        "colab": {
          "base_uri": "https://localhost:8080/",
          "height": 190
        }
      },
      "source": [
        "vendas$valor_total = vendas$quantidade * vendas$valor\n",
        "tapply(vendas$valor_total,list(vendas$produto, vendas$ano), sum, default=0)"
      ],
      "execution_count": 206,
      "outputs": [
        {
          "output_type": "display_data",
          "data": {
            "text/plain": [
              "           2017     2018     2019    \n",
              "impressora 42424900  5925000 13482400\n",
              "notebook   31662400 17075200  6952600\n",
              "smartphone 54450500 20343900 81077000\n",
              "tv         35605700 14795300 49055700"
            ],
            "text/latex": "A matrix: 4 × 3 of type dbl\n\\begin{tabular}{r|lll}\n  & 2017 & 2018 & 2019\\\\\n\\hline\n\timpressora & 42424900 &  5925000 & 13482400\\\\\n\tnotebook & 31662400 & 17075200 &  6952600\\\\\n\tsmartphone & 54450500 & 20343900 & 81077000\\\\\n\ttv & 35605700 & 14795300 & 49055700\\\\\n\\end{tabular}\n",
            "text/markdown": "\nA matrix: 4 × 3 of type dbl\n\n| <!--/--> | 2017 | 2018 | 2019 |\n|---|---|---|---|\n| impressora | 42424900 |  5925000 | 13482400 |\n| notebook | 31662400 | 17075200 |  6952600 |\n| smartphone | 54450500 | 20343900 | 81077000 |\n| tv | 35605700 | 14795300 | 49055700 |\n\n",
            "text/html": [
              "<table class=\"dataframe\">\n",
              "<caption>A matrix: 4 × 3 of type dbl</caption>\n",
              "<thead>\n",
              "\t<tr><th></th><th scope=col>2017</th><th scope=col>2018</th><th scope=col>2019</th></tr>\n",
              "</thead>\n",
              "<tbody>\n",
              "\t<tr><th scope=row>impressora</th><td>42424900</td><td> 5925000</td><td>13482400</td></tr>\n",
              "\t<tr><th scope=row>notebook</th><td>31662400</td><td>17075200</td><td> 6952600</td></tr>\n",
              "\t<tr><th scope=row>smartphone</th><td>54450500</td><td>20343900</td><td>81077000</td></tr>\n",
              "\t<tr><th scope=row>tv</th><td>35605700</td><td>14795300</td><td>49055700</td></tr>\n",
              "</tbody>\n",
              "</table>\n"
            ]
          },
          "metadata": {
            "tags": []
          }
        }
      ]
    },
    {
      "cell_type": "code",
      "metadata": {
        "id": "QYXB8crvmA6G"
      },
      "source": [
        "vendas <- subset (vendas, select = -valor_total)"
      ],
      "execution_count": 207,
      "outputs": []
    },
    {
      "cell_type": "markdown",
      "metadata": {
        "id": "uFkvPiYVUdA-"
      },
      "source": [
        "Item N"
      ]
    },
    {
      "cell_type": "code",
      "metadata": {
        "id": "M-_3DVW3Tpk_",
        "outputId": "c0bc894b-80cb-4411-ea80-43ec22e0b89b",
        "colab": {
          "base_uri": "https://localhost:8080/",
          "height": 376
        }
      },
      "source": [
        "subset(vendas, margem >= 0.33)"
      ],
      "execution_count": 208,
      "outputs": [
        {
          "output_type": "display_data",
          "data": {
            "text/plain": [
              "   ano  mes produto    quantidade valor margem    lucro    \n",
              "4  2017 11  smartphone 3179        800  0.3490200  887627.6\n",
              "12 2019  3  smartphone 1985       1300  0.3496031  902150.7\n",
              "15 2019  6  notebook    380       2500  0.3473030  329937.8\n",
              "19 2018 12  tv         3691       1300  0.3365701 1614964.5\n",
              "23 2017  3  tv         2438       2700  0.3322543 2187097.4\n",
              "64 2017  6  smartphone 3542       2900  0.3319575 3409800.7\n",
              "71 2017  9  smartphone  844       2000  0.3380110  570562.6\n",
              "84 2018  9  smartphone 2186        700  0.3338631  510877.3\n",
              "98 2019  3  tv         1123       3200  0.3443913 1237604.4"
            ],
            "text/latex": "A data.frame: 9 × 7\n\\begin{tabular}{r|lllllll}\n  & ano & mes & produto & quantidade & valor & margem & lucro\\\\\n  & <dbl> & <int> & <chr> & <int> & <dbl> & <dbl> & <dbl>\\\\\n\\hline\n\t4 & 2017 & 11 & smartphone & 3179 &  800 & 0.3490200 &  887627.6\\\\\n\t12 & 2019 &  3 & smartphone & 1985 & 1300 & 0.3496031 &  902150.7\\\\\n\t15 & 2019 &  6 & notebook   &  380 & 2500 & 0.3473030 &  329937.8\\\\\n\t19 & 2018 & 12 & tv         & 3691 & 1300 & 0.3365701 & 1614964.5\\\\\n\t23 & 2017 &  3 & tv         & 2438 & 2700 & 0.3322543 & 2187097.4\\\\\n\t64 & 2017 &  6 & smartphone & 3542 & 2900 & 0.3319575 & 3409800.7\\\\\n\t71 & 2017 &  9 & smartphone &  844 & 2000 & 0.3380110 &  570562.6\\\\\n\t84 & 2018 &  9 & smartphone & 2186 &  700 & 0.3338631 &  510877.3\\\\\n\t98 & 2019 &  3 & tv         & 1123 & 3200 & 0.3443913 & 1237604.4\\\\\n\\end{tabular}\n",
            "text/markdown": "\nA data.frame: 9 × 7\n\n| <!--/--> | ano &lt;dbl&gt; | mes &lt;int&gt; | produto &lt;chr&gt; | quantidade &lt;int&gt; | valor &lt;dbl&gt; | margem &lt;dbl&gt; | lucro &lt;dbl&gt; |\n|---|---|---|---|---|---|---|---|\n| 4 | 2017 | 11 | smartphone | 3179 |  800 | 0.3490200 |  887627.6 |\n| 12 | 2019 |  3 | smartphone | 1985 | 1300 | 0.3496031 |  902150.7 |\n| 15 | 2019 |  6 | notebook   |  380 | 2500 | 0.3473030 |  329937.8 |\n| 19 | 2018 | 12 | tv         | 3691 | 1300 | 0.3365701 | 1614964.5 |\n| 23 | 2017 |  3 | tv         | 2438 | 2700 | 0.3322543 | 2187097.4 |\n| 64 | 2017 |  6 | smartphone | 3542 | 2900 | 0.3319575 | 3409800.7 |\n| 71 | 2017 |  9 | smartphone |  844 | 2000 | 0.3380110 |  570562.6 |\n| 84 | 2018 |  9 | smartphone | 2186 |  700 | 0.3338631 |  510877.3 |\n| 98 | 2019 |  3 | tv         | 1123 | 3200 | 0.3443913 | 1237604.4 |\n\n",
            "text/html": [
              "<table class=\"dataframe\">\n",
              "<caption>A data.frame: 9 × 7</caption>\n",
              "<thead>\n",
              "\t<tr><th></th><th scope=col>ano</th><th scope=col>mes</th><th scope=col>produto</th><th scope=col>quantidade</th><th scope=col>valor</th><th scope=col>margem</th><th scope=col>lucro</th></tr>\n",
              "\t<tr><th></th><th scope=col>&lt;dbl&gt;</th><th scope=col>&lt;int&gt;</th><th scope=col>&lt;chr&gt;</th><th scope=col>&lt;int&gt;</th><th scope=col>&lt;dbl&gt;</th><th scope=col>&lt;dbl&gt;</th><th scope=col>&lt;dbl&gt;</th></tr>\n",
              "</thead>\n",
              "<tbody>\n",
              "\t<tr><th scope=row>4</th><td>2017</td><td>11</td><td>smartphone</td><td>3179</td><td> 800</td><td>0.3490200</td><td> 887627.6</td></tr>\n",
              "\t<tr><th scope=row>12</th><td>2019</td><td> 3</td><td>smartphone</td><td>1985</td><td>1300</td><td>0.3496031</td><td> 902150.7</td></tr>\n",
              "\t<tr><th scope=row>15</th><td>2019</td><td> 6</td><td>notebook  </td><td> 380</td><td>2500</td><td>0.3473030</td><td> 329937.8</td></tr>\n",
              "\t<tr><th scope=row>19</th><td>2018</td><td>12</td><td>tv        </td><td>3691</td><td>1300</td><td>0.3365701</td><td>1614964.5</td></tr>\n",
              "\t<tr><th scope=row>23</th><td>2017</td><td> 3</td><td>tv        </td><td>2438</td><td>2700</td><td>0.3322543</td><td>2187097.4</td></tr>\n",
              "\t<tr><th scope=row>64</th><td>2017</td><td> 6</td><td>smartphone</td><td>3542</td><td>2900</td><td>0.3319575</td><td>3409800.7</td></tr>\n",
              "\t<tr><th scope=row>71</th><td>2017</td><td> 9</td><td>smartphone</td><td> 844</td><td>2000</td><td>0.3380110</td><td> 570562.6</td></tr>\n",
              "\t<tr><th scope=row>84</th><td>2018</td><td> 9</td><td>smartphone</td><td>2186</td><td> 700</td><td>0.3338631</td><td> 510877.3</td></tr>\n",
              "\t<tr><th scope=row>98</th><td>2019</td><td> 3</td><td>tv        </td><td>1123</td><td>3200</td><td>0.3443913</td><td>1237604.4</td></tr>\n",
              "</tbody>\n",
              "</table>\n"
            ]
          },
          "metadata": {
            "tags": []
          }
        }
      ]
    },
    {
      "cell_type": "markdown",
      "metadata": {
        "id": "FOL2nKrFWh0f"
      },
      "source": [
        "item O"
      ]
    },
    {
      "cell_type": "code",
      "metadata": {
        "id": "hy2pU5PrUaTS"
      },
      "source": [
        "MaioresMargens = subset(vendas, margem >= 0.34, select = c(ano, mes, produto, margem))"
      ],
      "execution_count": 209,
      "outputs": []
    },
    {
      "cell_type": "markdown",
      "metadata": {
        "id": "3grylrkIWlC3"
      },
      "source": [
        "item P"
      ]
    },
    {
      "cell_type": "code",
      "metadata": {
        "id": "jwyuGPrmU1-m"
      },
      "source": [
        "MenoresMargens = subset(vendas, margem <= 0.02, select = c(ano, mes, produto, margem))"
      ],
      "execution_count": 210,
      "outputs": []
    },
    {
      "cell_type": "markdown",
      "metadata": {
        "id": "BC9SGtKAWnTx"
      },
      "source": [
        "item Q"
      ]
    },
    {
      "cell_type": "code",
      "metadata": {
        "id": "HsgM2HrBVII-"
      },
      "source": [
        "MargensExtremas = cbind(MaioresMargens, MenoresMargens)"
      ],
      "execution_count": 211,
      "outputs": []
    },
    {
      "cell_type": "code",
      "metadata": {
        "id": "EhaHdLzvVhfC"
      },
      "source": [
        "vendas <- tibble::rowid_to_column(vendas, \"id\")"
      ],
      "execution_count": 212,
      "outputs": []
    },
    {
      "cell_type": "code",
      "metadata": {
        "id": "eSzYvb8WViyR",
        "outputId": "7fc0f95a-3df0-424e-f070-325fcbe05603",
        "colab": {
          "base_uri": "https://localhost:8080/",
          "height": 469
        }
      },
      "source": [
        "subset(vendas, margem >= 0.32, select = c(id, produto))"
      ],
      "execution_count": 213,
      "outputs": [
        {
          "output_type": "display_data",
          "data": {
            "text/plain": [
              "   id produto   \n",
              "4   4 smartphone\n",
              "12 12 smartphone\n",
              "15 15 notebook  \n",
              "19 19 tv        \n",
              "23 23 tv        \n",
              "41 41 impressora\n",
              "64 64 smartphone\n",
              "71 71 smartphone\n",
              "81 81 smartphone\n",
              "84 84 smartphone\n",
              "93 93 smartphone\n",
              "98 98 tv        "
            ],
            "text/latex": "A data.frame: 12 × 2\n\\begin{tabular}{r|ll}\n  & id & produto\\\\\n  & <int> & <chr>\\\\\n\\hline\n\t4 &  4 & smartphone\\\\\n\t12 & 12 & smartphone\\\\\n\t15 & 15 & notebook  \\\\\n\t19 & 19 & tv        \\\\\n\t23 & 23 & tv        \\\\\n\t41 & 41 & impressora\\\\\n\t64 & 64 & smartphone\\\\\n\t71 & 71 & smartphone\\\\\n\t81 & 81 & smartphone\\\\\n\t84 & 84 & smartphone\\\\\n\t93 & 93 & smartphone\\\\\n\t98 & 98 & tv        \\\\\n\\end{tabular}\n",
            "text/markdown": "\nA data.frame: 12 × 2\n\n| <!--/--> | id &lt;int&gt; | produto &lt;chr&gt; |\n|---|---|---|\n| 4 |  4 | smartphone |\n| 12 | 12 | smartphone |\n| 15 | 15 | notebook   |\n| 19 | 19 | tv         |\n| 23 | 23 | tv         |\n| 41 | 41 | impressora |\n| 64 | 64 | smartphone |\n| 71 | 71 | smartphone |\n| 81 | 81 | smartphone |\n| 84 | 84 | smartphone |\n| 93 | 93 | smartphone |\n| 98 | 98 | tv         |\n\n",
            "text/html": [
              "<table class=\"dataframe\">\n",
              "<caption>A data.frame: 12 × 2</caption>\n",
              "<thead>\n",
              "\t<tr><th></th><th scope=col>id</th><th scope=col>produto</th></tr>\n",
              "\t<tr><th></th><th scope=col>&lt;int&gt;</th><th scope=col>&lt;chr&gt;</th></tr>\n",
              "</thead>\n",
              "<tbody>\n",
              "\t<tr><th scope=row>4</th><td> 4</td><td>smartphone</td></tr>\n",
              "\t<tr><th scope=row>12</th><td>12</td><td>smartphone</td></tr>\n",
              "\t<tr><th scope=row>15</th><td>15</td><td>notebook  </td></tr>\n",
              "\t<tr><th scope=row>19</th><td>19</td><td>tv        </td></tr>\n",
              "\t<tr><th scope=row>23</th><td>23</td><td>tv        </td></tr>\n",
              "\t<tr><th scope=row>41</th><td>41</td><td>impressora</td></tr>\n",
              "\t<tr><th scope=row>64</th><td>64</td><td>smartphone</td></tr>\n",
              "\t<tr><th scope=row>71</th><td>71</td><td>smartphone</td></tr>\n",
              "\t<tr><th scope=row>81</th><td>81</td><td>smartphone</td></tr>\n",
              "\t<tr><th scope=row>84</th><td>84</td><td>smartphone</td></tr>\n",
              "\t<tr><th scope=row>93</th><td>93</td><td>smartphone</td></tr>\n",
              "\t<tr><th scope=row>98</th><td>98</td><td>tv        </td></tr>\n",
              "</tbody>\n",
              "</table>\n"
            ]
          },
          "metadata": {
            "tags": []
          }
        }
      ]
    },
    {
      "cell_type": "code",
      "metadata": {
        "id": "MCJqJQ3YXSYu",
        "outputId": "7ad8bd9a-aedc-4e36-c332-43976fea9b9b",
        "colab": {
          "base_uri": "https://localhost:8080/",
          "height": 486
        }
      },
      "source": [
        "subset(vendas, margem >= 0.32, select = c(id))"
      ],
      "execution_count": 214,
      "outputs": [
        {
          "output_type": "display_data",
          "data": {
            "text/plain": [
              "   id\n",
              "4   4\n",
              "12 12\n",
              "15 15\n",
              "19 19\n",
              "23 23\n",
              "41 41\n",
              "64 64\n",
              "71 71\n",
              "81 81\n",
              "84 84\n",
              "93 93\n",
              "98 98"
            ],
            "text/latex": "A data.frame: 12 × 1\n\\begin{tabular}{r|l}\n  & id\\\\\n  & <int>\\\\\n\\hline\n\t4 &  4\\\\\n\t12 & 12\\\\\n\t15 & 15\\\\\n\t19 & 19\\\\\n\t23 & 23\\\\\n\t41 & 41\\\\\n\t64 & 64\\\\\n\t71 & 71\\\\\n\t81 & 81\\\\\n\t84 & 84\\\\\n\t93 & 93\\\\\n\t98 & 98\\\\\n\\end{tabular}\n",
            "text/markdown": "\nA data.frame: 12 × 1\n\n| <!--/--> | id &lt;int&gt; |\n|---|---|\n| 4 |  4 |\n| 12 | 12 |\n| 15 | 15 |\n| 19 | 19 |\n| 23 | 23 |\n| 41 | 41 |\n| 64 | 64 |\n| 71 | 71 |\n| 81 | 81 |\n| 84 | 84 |\n| 93 | 93 |\n| 98 | 98 |\n\n",
            "text/html": [
              "<table class=\"dataframe\">\n",
              "<caption>A data.frame: 12 × 1</caption>\n",
              "<thead>\n",
              "\t<tr><th></th><th scope=col>id</th></tr>\n",
              "\t<tr><th></th><th scope=col>&lt;int&gt;</th></tr>\n",
              "</thead>\n",
              "<tbody>\n",
              "\t<tr><th scope=row>4</th><td> 4</td></tr>\n",
              "\t<tr><th scope=row>12</th><td>12</td></tr>\n",
              "\t<tr><th scope=row>15</th><td>15</td></tr>\n",
              "\t<tr><th scope=row>19</th><td>19</td></tr>\n",
              "\t<tr><th scope=row>23</th><td>23</td></tr>\n",
              "\t<tr><th scope=row>41</th><td>41</td></tr>\n",
              "\t<tr><th scope=row>64</th><td>64</td></tr>\n",
              "\t<tr><th scope=row>71</th><td>71</td></tr>\n",
              "\t<tr><th scope=row>81</th><td>81</td></tr>\n",
              "\t<tr><th scope=row>84</th><td>84</td></tr>\n",
              "\t<tr><th scope=row>93</th><td>93</td></tr>\n",
              "\t<tr><th scope=row>98</th><td>98</td></tr>\n",
              "</tbody>\n",
              "</table>\n"
            ]
          },
          "metadata": {
            "tags": []
          }
        }
      ]
    },
    {
      "cell_type": "code",
      "metadata": {
        "id": "Oevh-QY1cenZ",
        "outputId": "672dd62a-129e-42c3-aff0-97ea9f04b855",
        "colab": {
          "base_uri": "https://localhost:8080/",
          "height": 34
        }
      },
      "source": [
        "dim(subset(vendas, margem >= 0.2 & produto==\"impressora\", select = c(id, produto, margem)))[1]"
      ],
      "execution_count": 215,
      "outputs": [
        {
          "output_type": "display_data",
          "data": {
            "text/plain": [
              "[1] 4"
            ],
            "text/latex": "4",
            "text/markdown": "4",
            "text/html": [
              "4"
            ]
          },
          "metadata": {
            "tags": []
          }
        }
      ]
    },
    {
      "cell_type": "code",
      "metadata": {
        "id": "9sD4FneGdL9W"
      },
      "source": [
        "write.csv(vendas,\"VendasAtualizado.csv\", row.names = FALSE)"
      ],
      "execution_count": 216,
      "outputs": []
    },
    {
      "cell_type": "code",
      "metadata": {
        "id": "IOeBrqo9eRCt",
        "outputId": "e0e12902-9546-4205-9cb9-83fa93e64153",
        "colab": {
          "base_uri": "https://localhost:8080/",
          "height": 717
        }
      },
      "source": [
        "# vendasaleatorias20 = \n",
        "vendas[sample(1:100, 20), c(2,3,4,8)]"
      ],
      "execution_count": 217,
      "outputs": [
        {
          "output_type": "display_data",
          "data": {
            "text/plain": [
              "   ano  mes produto    lucro      \n",
              "52 2018 11  tv          334613.005\n",
              "75 2019  5  tv         1359355.671\n",
              "97 2018  5  smartphone    4221.785\n",
              "21 2017  1  smartphone  205295.237\n",
              "88 2019 11  notebook    347111.311\n",
              "3  2019  6  tv          786365.992\n",
              "9  2019  4  smartphone  335337.541\n",
              "18 2017  5  impressora   90539.186\n",
              "95 2017  1  tv          743068.572\n",
              "57 2018  2  tv          305431.271\n",
              "12 2019  3  smartphone  902150.732\n",
              "73 2018  6  smartphone  209978.001\n",
              "60 2019  9  tv         2260549.788\n",
              "86 2017  3  impressora   43151.749\n",
              "62 2017  6  tv          105800.623\n",
              "98 2019  3  tv         1237604.422\n",
              "71 2017  9  smartphone  570562.620\n",
              "65 2017 12  impressora  259268.780\n",
              "46 2018  4  smartphone   37371.349\n",
              "63 2018  2  smartphone  652146.193"
            ],
            "text/latex": "A data.frame: 20 × 4\n\\begin{tabular}{r|llll}\n  & ano & mes & produto & lucro\\\\\n  & <dbl> & <int> & <chr> & <dbl>\\\\\n\\hline\n\t52 & 2018 & 11 & tv         &  334613.005\\\\\n\t75 & 2019 &  5 & tv         & 1359355.671\\\\\n\t97 & 2018 &  5 & smartphone &    4221.785\\\\\n\t21 & 2017 &  1 & smartphone &  205295.237\\\\\n\t88 & 2019 & 11 & notebook   &  347111.311\\\\\n\t3 & 2019 &  6 & tv         &  786365.992\\\\\n\t9 & 2019 &  4 & smartphone &  335337.541\\\\\n\t18 & 2017 &  5 & impressora &   90539.186\\\\\n\t95 & 2017 &  1 & tv         &  743068.572\\\\\n\t57 & 2018 &  2 & tv         &  305431.271\\\\\n\t12 & 2019 &  3 & smartphone &  902150.732\\\\\n\t73 & 2018 &  6 & smartphone &  209978.001\\\\\n\t60 & 2019 &  9 & tv         & 2260549.788\\\\\n\t86 & 2017 &  3 & impressora &   43151.749\\\\\n\t62 & 2017 &  6 & tv         &  105800.623\\\\\n\t98 & 2019 &  3 & tv         & 1237604.422\\\\\n\t71 & 2017 &  9 & smartphone &  570562.620\\\\\n\t65 & 2017 & 12 & impressora &  259268.780\\\\\n\t46 & 2018 &  4 & smartphone &   37371.349\\\\\n\t63 & 2018 &  2 & smartphone &  652146.193\\\\\n\\end{tabular}\n",
            "text/markdown": "\nA data.frame: 20 × 4\n\n| <!--/--> | ano &lt;dbl&gt; | mes &lt;int&gt; | produto &lt;chr&gt; | lucro &lt;dbl&gt; |\n|---|---|---|---|---|\n| 52 | 2018 | 11 | tv         |  334613.005 |\n| 75 | 2019 |  5 | tv         | 1359355.671 |\n| 97 | 2018 |  5 | smartphone |    4221.785 |\n| 21 | 2017 |  1 | smartphone |  205295.237 |\n| 88 | 2019 | 11 | notebook   |  347111.311 |\n| 3 | 2019 |  6 | tv         |  786365.992 |\n| 9 | 2019 |  4 | smartphone |  335337.541 |\n| 18 | 2017 |  5 | impressora |   90539.186 |\n| 95 | 2017 |  1 | tv         |  743068.572 |\n| 57 | 2018 |  2 | tv         |  305431.271 |\n| 12 | 2019 |  3 | smartphone |  902150.732 |\n| 73 | 2018 |  6 | smartphone |  209978.001 |\n| 60 | 2019 |  9 | tv         | 2260549.788 |\n| 86 | 2017 |  3 | impressora |   43151.749 |\n| 62 | 2017 |  6 | tv         |  105800.623 |\n| 98 | 2019 |  3 | tv         | 1237604.422 |\n| 71 | 2017 |  9 | smartphone |  570562.620 |\n| 65 | 2017 | 12 | impressora |  259268.780 |\n| 46 | 2018 |  4 | smartphone |   37371.349 |\n| 63 | 2018 |  2 | smartphone |  652146.193 |\n\n",
            "text/html": [
              "<table class=\"dataframe\">\n",
              "<caption>A data.frame: 20 × 4</caption>\n",
              "<thead>\n",
              "\t<tr><th></th><th scope=col>ano</th><th scope=col>mes</th><th scope=col>produto</th><th scope=col>lucro</th></tr>\n",
              "\t<tr><th></th><th scope=col>&lt;dbl&gt;</th><th scope=col>&lt;int&gt;</th><th scope=col>&lt;chr&gt;</th><th scope=col>&lt;dbl&gt;</th></tr>\n",
              "</thead>\n",
              "<tbody>\n",
              "\t<tr><th scope=row>52</th><td>2018</td><td>11</td><td>tv        </td><td> 334613.005</td></tr>\n",
              "\t<tr><th scope=row>75</th><td>2019</td><td> 5</td><td>tv        </td><td>1359355.671</td></tr>\n",
              "\t<tr><th scope=row>97</th><td>2018</td><td> 5</td><td>smartphone</td><td>   4221.785</td></tr>\n",
              "\t<tr><th scope=row>21</th><td>2017</td><td> 1</td><td>smartphone</td><td> 205295.237</td></tr>\n",
              "\t<tr><th scope=row>88</th><td>2019</td><td>11</td><td>notebook  </td><td> 347111.311</td></tr>\n",
              "\t<tr><th scope=row>3</th><td>2019</td><td> 6</td><td>tv        </td><td> 786365.992</td></tr>\n",
              "\t<tr><th scope=row>9</th><td>2019</td><td> 4</td><td>smartphone</td><td> 335337.541</td></tr>\n",
              "\t<tr><th scope=row>18</th><td>2017</td><td> 5</td><td>impressora</td><td>  90539.186</td></tr>\n",
              "\t<tr><th scope=row>95</th><td>2017</td><td> 1</td><td>tv        </td><td> 743068.572</td></tr>\n",
              "\t<tr><th scope=row>57</th><td>2018</td><td> 2</td><td>tv        </td><td> 305431.271</td></tr>\n",
              "\t<tr><th scope=row>12</th><td>2019</td><td> 3</td><td>smartphone</td><td> 902150.732</td></tr>\n",
              "\t<tr><th scope=row>73</th><td>2018</td><td> 6</td><td>smartphone</td><td> 209978.001</td></tr>\n",
              "\t<tr><th scope=row>60</th><td>2019</td><td> 9</td><td>tv        </td><td>2260549.788</td></tr>\n",
              "\t<tr><th scope=row>86</th><td>2017</td><td> 3</td><td>impressora</td><td>  43151.749</td></tr>\n",
              "\t<tr><th scope=row>62</th><td>2017</td><td> 6</td><td>tv        </td><td> 105800.623</td></tr>\n",
              "\t<tr><th scope=row>98</th><td>2019</td><td> 3</td><td>tv        </td><td>1237604.422</td></tr>\n",
              "\t<tr><th scope=row>71</th><td>2017</td><td> 9</td><td>smartphone</td><td> 570562.620</td></tr>\n",
              "\t<tr><th scope=row>65</th><td>2017</td><td>12</td><td>impressora</td><td> 259268.780</td></tr>\n",
              "\t<tr><th scope=row>46</th><td>2018</td><td> 4</td><td>smartphone</td><td>  37371.349</td></tr>\n",
              "\t<tr><th scope=row>63</th><td>2018</td><td> 2</td><td>smartphone</td><td> 652146.193</td></tr>\n",
              "</tbody>\n",
              "</table>\n"
            ]
          },
          "metadata": {
            "tags": []
          }
        }
      ]
    },
    {
      "cell_type": "markdown",
      "metadata": {
        "id": "PRKT3k_LkSa-"
      },
      "source": [
        "{N+1, 2020, 1, tv, 50, 2000, 15} e {N+2,\n",
        "2020, 1, notebook, 350, 2700, 20}"
      ]
    },
    {
      "cell_type": "code",
      "metadata": {
        "id": "rrBH22gkjJs3"
      },
      "source": [
        "l1 = c(101, \"2020\", 1, \"tv\", 50, 2000, 0.15, 50 * 2000 * 15)\n",
        "l2 = c(102, \"2020\", 1, \"notebook\", 350, 2700, 0.20, 350 * 2700 * 20)"
      ],
      "execution_count": 218,
      "outputs": []
    },
    {
      "cell_type": "code",
      "metadata": {
        "id": "HSOc3N9mksE8"
      },
      "source": [
        "vendas = rbind(vendas, l1, l2)"
      ],
      "execution_count": 219,
      "outputs": []
    },
    {
      "cell_type": "code",
      "metadata": {
        "id": "QhI6wPzikzah"
      },
      "source": [
        "vendas = vendas %>% mutate(produto=recode(produto, `tv`=\"TV\"))"
      ],
      "execution_count": 224,
      "outputs": []
    },
    {
      "cell_type": "code",
      "metadata": {
        "id": "NythmzLgo9Bb",
        "outputId": "85492da9-0b53-44a7-99c3-be0b1ff16985",
        "colab": {
          "base_uri": "https://localhost:8080/",
          "height": 1000
        }
      },
      "source": [
        ""
      ],
      "execution_count": 225,
      "outputs": [
        {
          "output_type": "display_data",
          "data": {
            "text/plain": [
              "    id  ano  mes produto    quantidade valor margem            \n",
              "1   1   2019 2   smartphone 2478       3500  0.241698874258436 \n",
              "2   2   2017 3   smartphone 2391       2800  0.316461018067785 \n",
              "3   3   2019 6   TV         1190       3800  0.173897831123322 \n",
              "4   4   2017 11  smartphone 3179       800   0.349019987145439 \n",
              "5   5   2018 2   notebook   187        3800  0.259210946909152 \n",
              "6   6   2017 1   TV         667        3000  0.301318884026259 \n",
              "7   7   2017 7   TV         798        2500  0.0357265933044255\n",
              "8   8   2019 4   smartphone 765        2800  0.140783825195394 \n",
              "9   9   2019 4   smartphone 2364       1900  0.0746588167874142\n",
              "10  10  2019 10  TV         2164       1500  0.170498649026267 \n",
              "11  11  2018 12  TV         1923       1500  0.11383900063578  \n",
              "12  12  2019 3   smartphone 1985       1300  0.349603073694743 \n",
              "13  13  2019 11  impressora 2759       3000  0.0890963523415848\n",
              "14  14  2019 1   TV         2355       4000  0.272596346628852 \n",
              "15  15  2019 6   notebook   380        2500  0.347302986895666 \n",
              "16  16  2017 4   notebook   496        700   0.119903099276125 \n",
              "17  17  2017 9   TV         475        1400  0.297114539146423 \n",
              "18  18  2017 5   impressora 1998       4000  0.0113287269510329\n",
              "19  19  2018 12  TV         3691       1300  0.336570129366592 \n",
              "20  20  2017 1   TV         56         3800  0.219547116858885 \n",
              "21  21  2017 1   smartphone 1027       3700  0.0540264841727912\n",
              "22  22  2017 6   smartphone 1039       2600  0.229157403474674 \n",
              "23  23  2017 3   TV         2438       2700  0.332254335279576 \n",
              "24  24  2018 7   smartphone 2054       3400  0.245911625474691 \n",
              "25  25  2017 11  TV         1068       4000  0.206316618677229 \n",
              "26  26  2019 11  smartphone 3321       2000  0.196552212727256 \n",
              "27  27  2019 3   smartphone 310        1100  0.0868380644870922\n",
              "28  28  2017 8   TV         1724       1500  0.140054810880683 \n",
              "29  29  2017 3   impressora 284        2500  0.0615081805828959\n",
              "30  30  2019 8   TV         2999       1100  0.165021444489248 \n",
              "⋮   ⋮   ⋮    ⋮   ⋮          ⋮          ⋮     ⋮                 \n",
              "73  73  2018 6   smartphone 3237       500   0.129736176328734 \n",
              "74  74  2017 4   smartphone 3253       3400  0.15844570227433  \n",
              "75  75  2019 5   TV         1662       2700  0.302927234251983 \n",
              "76  76  2019 11  notebook   934        700   0.207875086921267 \n",
              "77  77  2018 11  impressora 809        2400  0.239136110008694 \n",
              "78  78  2017 8   TV         561        2600  0.251525182290934 \n",
              "79  79  2017 8   notebook   2594       3400  0.143456349959597 \n",
              "80  80  2019 7   smartphone 324        700   0.159013908584602 \n",
              "81  81  2017 1   smartphone 1386       1600  0.327439971053973 \n",
              "82  82  2019 12  smartphone 287        2400  0.0669399853935465\n",
              "83  83  2017 1   TV         1874       3100  0.256670935442671 \n",
              "84  84  2018 9   smartphone 2186       700   0.333863117652945 \n",
              "85  85  2019 6   impressora 782        4000  0.0946910917758941\n",
              "86  86  2017 3   impressora 97         2100  0.211839711135253 \n",
              "87  87  2017 1   smartphone 2523       600   0.181143107702956 \n",
              "88  88  2019 11  notebook   1660       2400  0.0871263330895454\n",
              "89  89  2019 10  smartphone 1856       3900  0.0841521710110828\n",
              "90  90  2019 3   smartphone 3497       2300  0.0143384820362553\n",
              "91  91  2017 10  smartphone 1210       3500  0.145225311471149 \n",
              "92  92  2017 6   TV         76         2100  0.297363867517561 \n",
              "93  93  2019 2   smartphone 1275       3600  0.323822081559338 \n",
              "94  94  2017 10  smartphone 2238       2500  0.0921622587554157\n",
              "95  95  2017 1   TV         3279       1800  0.125896881185472 \n",
              "96  96  2017 8   TV         3041       500   0.209895401382819 \n",
              "97  97  2018 5   smartphone 40         500   0.211089252908714 \n",
              "98  98  2019 3   TV         1123       3200  0.344391257208772 \n",
              "99  99  2018 4   impressora 2213       1800  0.0695002489816397\n",
              "100 100 2018 10  smartphone 3956       1800  0.245404205848463 \n",
              "101 101 2020 1   TV         50         2000  0.15              \n",
              "102 102 2020 1   notebook   350        2700  0.2               \n",
              "    lucro           \n",
              "1   2096254.33644342\n",
              "2   2118643.2237602 \n",
              "3   786365.992339663\n",
              "4   887627.63130828 \n",
              "5   184195.298873643\n",
              "6   602939.086936545\n",
              "7   71274.5536423288\n",
              "8   301558.953568535\n",
              "9   335337.54148235 \n",
              "10  553438.614739263\n",
              "11  328368.597333908\n",
              "12  902150.731669285\n",
              "13  737450.508331298\n",
              "14  2567857.58524379\n",
              "15  329937.837550882\n",
              "16  41630.3560686707\n",
              "17  197581.168532372\n",
              "18  90539.1857926548\n",
              "19  1614964.45173972\n",
              "20  46719.6264675707\n",
              "21  205295.237208189\n",
              "22  619045.809746483\n",
              "23  2187097.38741134\n",
              "24  1717348.42766505\n",
              "25  881384.594989121\n",
              "26  1305499.79693444\n",
              "27  29611.7799900984\n",
              "28  362181.740937447\n",
              "29  43670.8082138561\n",
              "30  544389.243225581\n",
              "⋮   ⋮               \n",
              "73  209978.001388055\n",
              "74  1752441.15629454\n",
              "75  1359355.67098235\n",
              "76  135908.731829125\n",
              "77  464306.671192881\n",
              "78  366874.630889556\n",
              "79  1265227.62410366\n",
              "80  36064.3544669878\n",
              "81  726130.87980929 \n",
              "82  46108.2619390748\n",
              "83  1491104.13236065\n",
              "84  510877.342632537\n",
              "85  296193.735074997\n",
              "86  43151.7491582511\n",
              "87  274214.436440734\n",
              "88  347111.311028749\n",
              "89  609127.074646622\n",
              "90  115325.844865805\n",
              "91  615029.194080317\n",
              "92  47459.2732558027\n",
              "93  1486343.35435736\n",
              "94  515647.837736551\n",
              "95  743068.572132893\n",
              "96  319145.957802576\n",
              "97  4221.78505817428\n",
              "98  1237604.42190544\n",
              "99  276847.291793464\n",
              "100 1747474.26900573\n",
              "101 1500000         \n",
              "102 18900000        "
            ],
            "text/latex": "A data.frame: 102 × 8\n\\begin{tabular}{llllllll}\n id & ano & mes & produto & quantidade & valor & margem & lucro\\\\\n <chr> & <chr> & <chr> & <chr> & <chr> & <chr> & <chr> & <chr>\\\\\n\\hline\n\t 1  & 2019 & 2  & smartphone & 2478 & 3500 & 0.241698874258436  & 2096254.33644342\\\\\n\t 2  & 2017 & 3  & smartphone & 2391 & 2800 & 0.316461018067785  & 2118643.2237602 \\\\\n\t 3  & 2019 & 6  & TV         & 1190 & 3800 & 0.173897831123322  & 786365.992339663\\\\\n\t 4  & 2017 & 11 & smartphone & 3179 & 800  & 0.349019987145439  & 887627.63130828 \\\\\n\t 5  & 2018 & 2  & notebook   & 187  & 3800 & 0.259210946909152  & 184195.298873643\\\\\n\t 6  & 2017 & 1  & TV         & 667  & 3000 & 0.301318884026259  & 602939.086936545\\\\\n\t 7  & 2017 & 7  & TV         & 798  & 2500 & 0.0357265933044255 & 71274.5536423288\\\\\n\t 8  & 2019 & 4  & smartphone & 765  & 2800 & 0.140783825195394  & 301558.953568535\\\\\n\t 9  & 2019 & 4  & smartphone & 2364 & 1900 & 0.0746588167874142 & 335337.54148235 \\\\\n\t 10 & 2019 & 10 & TV         & 2164 & 1500 & 0.170498649026267  & 553438.614739263\\\\\n\t 11 & 2018 & 12 & TV         & 1923 & 1500 & 0.11383900063578   & 328368.597333908\\\\\n\t 12 & 2019 & 3  & smartphone & 1985 & 1300 & 0.349603073694743  & 902150.731669285\\\\\n\t 13 & 2019 & 11 & impressora & 2759 & 3000 & 0.0890963523415848 & 737450.508331298\\\\\n\t 14 & 2019 & 1  & TV         & 2355 & 4000 & 0.272596346628852  & 2567857.58524379\\\\\n\t 15 & 2019 & 6  & notebook   & 380  & 2500 & 0.347302986895666  & 329937.837550882\\\\\n\t 16 & 2017 & 4  & notebook   & 496  & 700  & 0.119903099276125  & 41630.3560686707\\\\\n\t 17 & 2017 & 9  & TV         & 475  & 1400 & 0.297114539146423  & 197581.168532372\\\\\n\t 18 & 2017 & 5  & impressora & 1998 & 4000 & 0.0113287269510329 & 90539.1857926548\\\\\n\t 19 & 2018 & 12 & TV         & 3691 & 1300 & 0.336570129366592  & 1614964.45173972\\\\\n\t 20 & 2017 & 1  & TV         & 56   & 3800 & 0.219547116858885  & 46719.6264675707\\\\\n\t 21 & 2017 & 1  & smartphone & 1027 & 3700 & 0.0540264841727912 & 205295.237208189\\\\\n\t 22 & 2017 & 6  & smartphone & 1039 & 2600 & 0.229157403474674  & 619045.809746483\\\\\n\t 23 & 2017 & 3  & TV         & 2438 & 2700 & 0.332254335279576  & 2187097.38741134\\\\\n\t 24 & 2018 & 7  & smartphone & 2054 & 3400 & 0.245911625474691  & 1717348.42766505\\\\\n\t 25 & 2017 & 11 & TV         & 1068 & 4000 & 0.206316618677229  & 881384.594989121\\\\\n\t 26 & 2019 & 11 & smartphone & 3321 & 2000 & 0.196552212727256  & 1305499.79693444\\\\\n\t 27 & 2019 & 3  & smartphone & 310  & 1100 & 0.0868380644870922 & 29611.7799900984\\\\\n\t 28 & 2017 & 8  & TV         & 1724 & 1500 & 0.140054810880683  & 362181.740937447\\\\\n\t 29 & 2017 & 3  & impressora & 284  & 2500 & 0.0615081805828959 & 43670.8082138561\\\\\n\t 30 & 2019 & 8  & TV         & 2999 & 1100 & 0.165021444489248  & 544389.243225581\\\\\n\t ⋮ & ⋮ & ⋮ & ⋮ & ⋮ & ⋮ & ⋮ & ⋮\\\\\n\t 73  & 2018 & 6  & smartphone & 3237 & 500  & 0.129736176328734  & 209978.001388055\\\\\n\t 74  & 2017 & 4  & smartphone & 3253 & 3400 & 0.15844570227433   & 1752441.15629454\\\\\n\t 75  & 2019 & 5  & TV         & 1662 & 2700 & 0.302927234251983  & 1359355.67098235\\\\\n\t 76  & 2019 & 11 & notebook   & 934  & 700  & 0.207875086921267  & 135908.731829125\\\\\n\t 77  & 2018 & 11 & impressora & 809  & 2400 & 0.239136110008694  & 464306.671192881\\\\\n\t 78  & 2017 & 8  & TV         & 561  & 2600 & 0.251525182290934  & 366874.630889556\\\\\n\t 79  & 2017 & 8  & notebook   & 2594 & 3400 & 0.143456349959597  & 1265227.62410366\\\\\n\t 80  & 2019 & 7  & smartphone & 324  & 700  & 0.159013908584602  & 36064.3544669878\\\\\n\t 81  & 2017 & 1  & smartphone & 1386 & 1600 & 0.327439971053973  & 726130.87980929 \\\\\n\t 82  & 2019 & 12 & smartphone & 287  & 2400 & 0.0669399853935465 & 46108.2619390748\\\\\n\t 83  & 2017 & 1  & TV         & 1874 & 3100 & 0.256670935442671  & 1491104.13236065\\\\\n\t 84  & 2018 & 9  & smartphone & 2186 & 700  & 0.333863117652945  & 510877.342632537\\\\\n\t 85  & 2019 & 6  & impressora & 782  & 4000 & 0.0946910917758941 & 296193.735074997\\\\\n\t 86  & 2017 & 3  & impressora & 97   & 2100 & 0.211839711135253  & 43151.7491582511\\\\\n\t 87  & 2017 & 1  & smartphone & 2523 & 600  & 0.181143107702956  & 274214.436440734\\\\\n\t 88  & 2019 & 11 & notebook   & 1660 & 2400 & 0.0871263330895454 & 347111.311028749\\\\\n\t 89  & 2019 & 10 & smartphone & 1856 & 3900 & 0.0841521710110828 & 609127.074646622\\\\\n\t 90  & 2019 & 3  & smartphone & 3497 & 2300 & 0.0143384820362553 & 115325.844865805\\\\\n\t 91  & 2017 & 10 & smartphone & 1210 & 3500 & 0.145225311471149  & 615029.194080317\\\\\n\t 92  & 2017 & 6  & TV         & 76   & 2100 & 0.297363867517561  & 47459.2732558027\\\\\n\t 93  & 2019 & 2  & smartphone & 1275 & 3600 & 0.323822081559338  & 1486343.35435736\\\\\n\t 94  & 2017 & 10 & smartphone & 2238 & 2500 & 0.0921622587554157 & 515647.837736551\\\\\n\t 95  & 2017 & 1  & TV         & 3279 & 1800 & 0.125896881185472  & 743068.572132893\\\\\n\t 96  & 2017 & 8  & TV         & 3041 & 500  & 0.209895401382819  & 319145.957802576\\\\\n\t 97  & 2018 & 5  & smartphone & 40   & 500  & 0.211089252908714  & 4221.78505817428\\\\\n\t 98  & 2019 & 3  & TV         & 1123 & 3200 & 0.344391257208772  & 1237604.42190544\\\\\n\t 99  & 2018 & 4  & impressora & 2213 & 1800 & 0.0695002489816397 & 276847.291793464\\\\\n\t 100 & 2018 & 10 & smartphone & 3956 & 1800 & 0.245404205848463  & 1747474.26900573\\\\\n\t 101 & 2020 & 1  & TV         & 50   & 2000 & 0.15               & 1500000         \\\\\n\t 102 & 2020 & 1  & notebook   & 350  & 2700 & 0.2                & 18900000        \\\\\n\\end{tabular}\n",
            "text/markdown": "\nA data.frame: 102 × 8\n\n| id &lt;chr&gt; | ano &lt;chr&gt; | mes &lt;chr&gt; | produto &lt;chr&gt; | quantidade &lt;chr&gt; | valor &lt;chr&gt; | margem &lt;chr&gt; | lucro &lt;chr&gt; |\n|---|---|---|---|---|---|---|---|\n| 1  | 2019 | 2  | smartphone | 2478 | 3500 | 0.241698874258436  | 2096254.33644342 |\n| 2  | 2017 | 3  | smartphone | 2391 | 2800 | 0.316461018067785  | 2118643.2237602  |\n| 3  | 2019 | 6  | TV         | 1190 | 3800 | 0.173897831123322  | 786365.992339663 |\n| 4  | 2017 | 11 | smartphone | 3179 | 800  | 0.349019987145439  | 887627.63130828  |\n| 5  | 2018 | 2  | notebook   | 187  | 3800 | 0.259210946909152  | 184195.298873643 |\n| 6  | 2017 | 1  | TV         | 667  | 3000 | 0.301318884026259  | 602939.086936545 |\n| 7  | 2017 | 7  | TV         | 798  | 2500 | 0.0357265933044255 | 71274.5536423288 |\n| 8  | 2019 | 4  | smartphone | 765  | 2800 | 0.140783825195394  | 301558.953568535 |\n| 9  | 2019 | 4  | smartphone | 2364 | 1900 | 0.0746588167874142 | 335337.54148235  |\n| 10 | 2019 | 10 | TV         | 2164 | 1500 | 0.170498649026267  | 553438.614739263 |\n| 11 | 2018 | 12 | TV         | 1923 | 1500 | 0.11383900063578   | 328368.597333908 |\n| 12 | 2019 | 3  | smartphone | 1985 | 1300 | 0.349603073694743  | 902150.731669285 |\n| 13 | 2019 | 11 | impressora | 2759 | 3000 | 0.0890963523415848 | 737450.508331298 |\n| 14 | 2019 | 1  | TV         | 2355 | 4000 | 0.272596346628852  | 2567857.58524379 |\n| 15 | 2019 | 6  | notebook   | 380  | 2500 | 0.347302986895666  | 329937.837550882 |\n| 16 | 2017 | 4  | notebook   | 496  | 700  | 0.119903099276125  | 41630.3560686707 |\n| 17 | 2017 | 9  | TV         | 475  | 1400 | 0.297114539146423  | 197581.168532372 |\n| 18 | 2017 | 5  | impressora | 1998 | 4000 | 0.0113287269510329 | 90539.1857926548 |\n| 19 | 2018 | 12 | TV         | 3691 | 1300 | 0.336570129366592  | 1614964.45173972 |\n| 20 | 2017 | 1  | TV         | 56   | 3800 | 0.219547116858885  | 46719.6264675707 |\n| 21 | 2017 | 1  | smartphone | 1027 | 3700 | 0.0540264841727912 | 205295.237208189 |\n| 22 | 2017 | 6  | smartphone | 1039 | 2600 | 0.229157403474674  | 619045.809746483 |\n| 23 | 2017 | 3  | TV         | 2438 | 2700 | 0.332254335279576  | 2187097.38741134 |\n| 24 | 2018 | 7  | smartphone | 2054 | 3400 | 0.245911625474691  | 1717348.42766505 |\n| 25 | 2017 | 11 | TV         | 1068 | 4000 | 0.206316618677229  | 881384.594989121 |\n| 26 | 2019 | 11 | smartphone | 3321 | 2000 | 0.196552212727256  | 1305499.79693444 |\n| 27 | 2019 | 3  | smartphone | 310  | 1100 | 0.0868380644870922 | 29611.7799900984 |\n| 28 | 2017 | 8  | TV         | 1724 | 1500 | 0.140054810880683  | 362181.740937447 |\n| 29 | 2017 | 3  | impressora | 284  | 2500 | 0.0615081805828959 | 43670.8082138561 |\n| 30 | 2019 | 8  | TV         | 2999 | 1100 | 0.165021444489248  | 544389.243225581 |\n| ⋮ | ⋮ | ⋮ | ⋮ | ⋮ | ⋮ | ⋮ | ⋮ |\n| 73  | 2018 | 6  | smartphone | 3237 | 500  | 0.129736176328734  | 209978.001388055 |\n| 74  | 2017 | 4  | smartphone | 3253 | 3400 | 0.15844570227433   | 1752441.15629454 |\n| 75  | 2019 | 5  | TV         | 1662 | 2700 | 0.302927234251983  | 1359355.67098235 |\n| 76  | 2019 | 11 | notebook   | 934  | 700  | 0.207875086921267  | 135908.731829125 |\n| 77  | 2018 | 11 | impressora | 809  | 2400 | 0.239136110008694  | 464306.671192881 |\n| 78  | 2017 | 8  | TV         | 561  | 2600 | 0.251525182290934  | 366874.630889556 |\n| 79  | 2017 | 8  | notebook   | 2594 | 3400 | 0.143456349959597  | 1265227.62410366 |\n| 80  | 2019 | 7  | smartphone | 324  | 700  | 0.159013908584602  | 36064.3544669878 |\n| 81  | 2017 | 1  | smartphone | 1386 | 1600 | 0.327439971053973  | 726130.87980929  |\n| 82  | 2019 | 12 | smartphone | 287  | 2400 | 0.0669399853935465 | 46108.2619390748 |\n| 83  | 2017 | 1  | TV         | 1874 | 3100 | 0.256670935442671  | 1491104.13236065 |\n| 84  | 2018 | 9  | smartphone | 2186 | 700  | 0.333863117652945  | 510877.342632537 |\n| 85  | 2019 | 6  | impressora | 782  | 4000 | 0.0946910917758941 | 296193.735074997 |\n| 86  | 2017 | 3  | impressora | 97   | 2100 | 0.211839711135253  | 43151.7491582511 |\n| 87  | 2017 | 1  | smartphone | 2523 | 600  | 0.181143107702956  | 274214.436440734 |\n| 88  | 2019 | 11 | notebook   | 1660 | 2400 | 0.0871263330895454 | 347111.311028749 |\n| 89  | 2019 | 10 | smartphone | 1856 | 3900 | 0.0841521710110828 | 609127.074646622 |\n| 90  | 2019 | 3  | smartphone | 3497 | 2300 | 0.0143384820362553 | 115325.844865805 |\n| 91  | 2017 | 10 | smartphone | 1210 | 3500 | 0.145225311471149  | 615029.194080317 |\n| 92  | 2017 | 6  | TV         | 76   | 2100 | 0.297363867517561  | 47459.2732558027 |\n| 93  | 2019 | 2  | smartphone | 1275 | 3600 | 0.323822081559338  | 1486343.35435736 |\n| 94  | 2017 | 10 | smartphone | 2238 | 2500 | 0.0921622587554157 | 515647.837736551 |\n| 95  | 2017 | 1  | TV         | 3279 | 1800 | 0.125896881185472  | 743068.572132893 |\n| 96  | 2017 | 8  | TV         | 3041 | 500  | 0.209895401382819  | 319145.957802576 |\n| 97  | 2018 | 5  | smartphone | 40   | 500  | 0.211089252908714  | 4221.78505817428 |\n| 98  | 2019 | 3  | TV         | 1123 | 3200 | 0.344391257208772  | 1237604.42190544 |\n| 99  | 2018 | 4  | impressora | 2213 | 1800 | 0.0695002489816397 | 276847.291793464 |\n| 100 | 2018 | 10 | smartphone | 3956 | 1800 | 0.245404205848463  | 1747474.26900573 |\n| 101 | 2020 | 1  | TV         | 50   | 2000 | 0.15               | 1500000          |\n| 102 | 2020 | 1  | notebook   | 350  | 2700 | 0.2                | 18900000         |\n\n",
            "text/html": [
              "<table class=\"dataframe\">\n",
              "<caption>A data.frame: 102 × 8</caption>\n",
              "<thead>\n",
              "\t<tr><th scope=col>id</th><th scope=col>ano</th><th scope=col>mes</th><th scope=col>produto</th><th scope=col>quantidade</th><th scope=col>valor</th><th scope=col>margem</th><th scope=col>lucro</th></tr>\n",
              "\t<tr><th scope=col>&lt;chr&gt;</th><th scope=col>&lt;chr&gt;</th><th scope=col>&lt;chr&gt;</th><th scope=col>&lt;chr&gt;</th><th scope=col>&lt;chr&gt;</th><th scope=col>&lt;chr&gt;</th><th scope=col>&lt;chr&gt;</th><th scope=col>&lt;chr&gt;</th></tr>\n",
              "</thead>\n",
              "<tbody>\n",
              "\t<tr><td>1 </td><td>2019</td><td>2 </td><td>smartphone</td><td>2478</td><td>3500</td><td>0.241698874258436 </td><td>2096254.33644342</td></tr>\n",
              "\t<tr><td>2 </td><td>2017</td><td>3 </td><td>smartphone</td><td>2391</td><td>2800</td><td>0.316461018067785 </td><td>2118643.2237602 </td></tr>\n",
              "\t<tr><td>3 </td><td>2019</td><td>6 </td><td>TV        </td><td>1190</td><td>3800</td><td>0.173897831123322 </td><td>786365.992339663</td></tr>\n",
              "\t<tr><td>4 </td><td>2017</td><td>11</td><td>smartphone</td><td>3179</td><td>800 </td><td>0.349019987145439 </td><td>887627.63130828 </td></tr>\n",
              "\t<tr><td>5 </td><td>2018</td><td>2 </td><td>notebook  </td><td>187 </td><td>3800</td><td>0.259210946909152 </td><td>184195.298873643</td></tr>\n",
              "\t<tr><td>6 </td><td>2017</td><td>1 </td><td>TV        </td><td>667 </td><td>3000</td><td>0.301318884026259 </td><td>602939.086936545</td></tr>\n",
              "\t<tr><td>7 </td><td>2017</td><td>7 </td><td>TV        </td><td>798 </td><td>2500</td><td>0.0357265933044255</td><td>71274.5536423288</td></tr>\n",
              "\t<tr><td>8 </td><td>2019</td><td>4 </td><td>smartphone</td><td>765 </td><td>2800</td><td>0.140783825195394 </td><td>301558.953568535</td></tr>\n",
              "\t<tr><td>9 </td><td>2019</td><td>4 </td><td>smartphone</td><td>2364</td><td>1900</td><td>0.0746588167874142</td><td>335337.54148235 </td></tr>\n",
              "\t<tr><td>10</td><td>2019</td><td>10</td><td>TV        </td><td>2164</td><td>1500</td><td>0.170498649026267 </td><td>553438.614739263</td></tr>\n",
              "\t<tr><td>11</td><td>2018</td><td>12</td><td>TV        </td><td>1923</td><td>1500</td><td>0.11383900063578  </td><td>328368.597333908</td></tr>\n",
              "\t<tr><td>12</td><td>2019</td><td>3 </td><td>smartphone</td><td>1985</td><td>1300</td><td>0.349603073694743 </td><td>902150.731669285</td></tr>\n",
              "\t<tr><td>13</td><td>2019</td><td>11</td><td>impressora</td><td>2759</td><td>3000</td><td>0.0890963523415848</td><td>737450.508331298</td></tr>\n",
              "\t<tr><td>14</td><td>2019</td><td>1 </td><td>TV        </td><td>2355</td><td>4000</td><td>0.272596346628852 </td><td>2567857.58524379</td></tr>\n",
              "\t<tr><td>15</td><td>2019</td><td>6 </td><td>notebook  </td><td>380 </td><td>2500</td><td>0.347302986895666 </td><td>329937.837550882</td></tr>\n",
              "\t<tr><td>16</td><td>2017</td><td>4 </td><td>notebook  </td><td>496 </td><td>700 </td><td>0.119903099276125 </td><td>41630.3560686707</td></tr>\n",
              "\t<tr><td>17</td><td>2017</td><td>9 </td><td>TV        </td><td>475 </td><td>1400</td><td>0.297114539146423 </td><td>197581.168532372</td></tr>\n",
              "\t<tr><td>18</td><td>2017</td><td>5 </td><td>impressora</td><td>1998</td><td>4000</td><td>0.0113287269510329</td><td>90539.1857926548</td></tr>\n",
              "\t<tr><td>19</td><td>2018</td><td>12</td><td>TV        </td><td>3691</td><td>1300</td><td>0.336570129366592 </td><td>1614964.45173972</td></tr>\n",
              "\t<tr><td>20</td><td>2017</td><td>1 </td><td>TV        </td><td>56  </td><td>3800</td><td>0.219547116858885 </td><td>46719.6264675707</td></tr>\n",
              "\t<tr><td>21</td><td>2017</td><td>1 </td><td>smartphone</td><td>1027</td><td>3700</td><td>0.0540264841727912</td><td>205295.237208189</td></tr>\n",
              "\t<tr><td>22</td><td>2017</td><td>6 </td><td>smartphone</td><td>1039</td><td>2600</td><td>0.229157403474674 </td><td>619045.809746483</td></tr>\n",
              "\t<tr><td>23</td><td>2017</td><td>3 </td><td>TV        </td><td>2438</td><td>2700</td><td>0.332254335279576 </td><td>2187097.38741134</td></tr>\n",
              "\t<tr><td>24</td><td>2018</td><td>7 </td><td>smartphone</td><td>2054</td><td>3400</td><td>0.245911625474691 </td><td>1717348.42766505</td></tr>\n",
              "\t<tr><td>25</td><td>2017</td><td>11</td><td>TV        </td><td>1068</td><td>4000</td><td>0.206316618677229 </td><td>881384.594989121</td></tr>\n",
              "\t<tr><td>26</td><td>2019</td><td>11</td><td>smartphone</td><td>3321</td><td>2000</td><td>0.196552212727256 </td><td>1305499.79693444</td></tr>\n",
              "\t<tr><td>27</td><td>2019</td><td>3 </td><td>smartphone</td><td>310 </td><td>1100</td><td>0.0868380644870922</td><td>29611.7799900984</td></tr>\n",
              "\t<tr><td>28</td><td>2017</td><td>8 </td><td>TV        </td><td>1724</td><td>1500</td><td>0.140054810880683 </td><td>362181.740937447</td></tr>\n",
              "\t<tr><td>29</td><td>2017</td><td>3 </td><td>impressora</td><td>284 </td><td>2500</td><td>0.0615081805828959</td><td>43670.8082138561</td></tr>\n",
              "\t<tr><td>30</td><td>2019</td><td>8 </td><td>TV        </td><td>2999</td><td>1100</td><td>0.165021444489248 </td><td>544389.243225581</td></tr>\n",
              "\t<tr><td>⋮</td><td>⋮</td><td>⋮</td><td>⋮</td><td>⋮</td><td>⋮</td><td>⋮</td><td>⋮</td></tr>\n",
              "\t<tr><td>73 </td><td>2018</td><td>6 </td><td>smartphone</td><td>3237</td><td>500 </td><td>0.129736176328734 </td><td>209978.001388055</td></tr>\n",
              "\t<tr><td>74 </td><td>2017</td><td>4 </td><td>smartphone</td><td>3253</td><td>3400</td><td>0.15844570227433  </td><td>1752441.15629454</td></tr>\n",
              "\t<tr><td>75 </td><td>2019</td><td>5 </td><td>TV        </td><td>1662</td><td>2700</td><td>0.302927234251983 </td><td>1359355.67098235</td></tr>\n",
              "\t<tr><td>76 </td><td>2019</td><td>11</td><td>notebook  </td><td>934 </td><td>700 </td><td>0.207875086921267 </td><td>135908.731829125</td></tr>\n",
              "\t<tr><td>77 </td><td>2018</td><td>11</td><td>impressora</td><td>809 </td><td>2400</td><td>0.239136110008694 </td><td>464306.671192881</td></tr>\n",
              "\t<tr><td>78 </td><td>2017</td><td>8 </td><td>TV        </td><td>561 </td><td>2600</td><td>0.251525182290934 </td><td>366874.630889556</td></tr>\n",
              "\t<tr><td>79 </td><td>2017</td><td>8 </td><td>notebook  </td><td>2594</td><td>3400</td><td>0.143456349959597 </td><td>1265227.62410366</td></tr>\n",
              "\t<tr><td>80 </td><td>2019</td><td>7 </td><td>smartphone</td><td>324 </td><td>700 </td><td>0.159013908584602 </td><td>36064.3544669878</td></tr>\n",
              "\t<tr><td>81 </td><td>2017</td><td>1 </td><td>smartphone</td><td>1386</td><td>1600</td><td>0.327439971053973 </td><td>726130.87980929 </td></tr>\n",
              "\t<tr><td>82 </td><td>2019</td><td>12</td><td>smartphone</td><td>287 </td><td>2400</td><td>0.0669399853935465</td><td>46108.2619390748</td></tr>\n",
              "\t<tr><td>83 </td><td>2017</td><td>1 </td><td>TV        </td><td>1874</td><td>3100</td><td>0.256670935442671 </td><td>1491104.13236065</td></tr>\n",
              "\t<tr><td>84 </td><td>2018</td><td>9 </td><td>smartphone</td><td>2186</td><td>700 </td><td>0.333863117652945 </td><td>510877.342632537</td></tr>\n",
              "\t<tr><td>85 </td><td>2019</td><td>6 </td><td>impressora</td><td>782 </td><td>4000</td><td>0.0946910917758941</td><td>296193.735074997</td></tr>\n",
              "\t<tr><td>86 </td><td>2017</td><td>3 </td><td>impressora</td><td>97  </td><td>2100</td><td>0.211839711135253 </td><td>43151.7491582511</td></tr>\n",
              "\t<tr><td>87 </td><td>2017</td><td>1 </td><td>smartphone</td><td>2523</td><td>600 </td><td>0.181143107702956 </td><td>274214.436440734</td></tr>\n",
              "\t<tr><td>88 </td><td>2019</td><td>11</td><td>notebook  </td><td>1660</td><td>2400</td><td>0.0871263330895454</td><td>347111.311028749</td></tr>\n",
              "\t<tr><td>89 </td><td>2019</td><td>10</td><td>smartphone</td><td>1856</td><td>3900</td><td>0.0841521710110828</td><td>609127.074646622</td></tr>\n",
              "\t<tr><td>90 </td><td>2019</td><td>3 </td><td>smartphone</td><td>3497</td><td>2300</td><td>0.0143384820362553</td><td>115325.844865805</td></tr>\n",
              "\t<tr><td>91 </td><td>2017</td><td>10</td><td>smartphone</td><td>1210</td><td>3500</td><td>0.145225311471149 </td><td>615029.194080317</td></tr>\n",
              "\t<tr><td>92 </td><td>2017</td><td>6 </td><td>TV        </td><td>76  </td><td>2100</td><td>0.297363867517561 </td><td>47459.2732558027</td></tr>\n",
              "\t<tr><td>93 </td><td>2019</td><td>2 </td><td>smartphone</td><td>1275</td><td>3600</td><td>0.323822081559338 </td><td>1486343.35435736</td></tr>\n",
              "\t<tr><td>94 </td><td>2017</td><td>10</td><td>smartphone</td><td>2238</td><td>2500</td><td>0.0921622587554157</td><td>515647.837736551</td></tr>\n",
              "\t<tr><td>95 </td><td>2017</td><td>1 </td><td>TV        </td><td>3279</td><td>1800</td><td>0.125896881185472 </td><td>743068.572132893</td></tr>\n",
              "\t<tr><td>96 </td><td>2017</td><td>8 </td><td>TV        </td><td>3041</td><td>500 </td><td>0.209895401382819 </td><td>319145.957802576</td></tr>\n",
              "\t<tr><td>97 </td><td>2018</td><td>5 </td><td>smartphone</td><td>40  </td><td>500 </td><td>0.211089252908714 </td><td>4221.78505817428</td></tr>\n",
              "\t<tr><td>98 </td><td>2019</td><td>3 </td><td>TV        </td><td>1123</td><td>3200</td><td>0.344391257208772 </td><td>1237604.42190544</td></tr>\n",
              "\t<tr><td>99 </td><td>2018</td><td>4 </td><td>impressora</td><td>2213</td><td>1800</td><td>0.0695002489816397</td><td>276847.291793464</td></tr>\n",
              "\t<tr><td>100</td><td>2018</td><td>10</td><td>smartphone</td><td>3956</td><td>1800</td><td>0.245404205848463 </td><td>1747474.26900573</td></tr>\n",
              "\t<tr><td>101</td><td>2020</td><td>1 </td><td>TV        </td><td>50  </td><td>2000</td><td>0.15              </td><td>1500000         </td></tr>\n",
              "\t<tr><td>102</td><td>2020</td><td>1 </td><td>notebook  </td><td>350 </td><td>2700</td><td>0.2               </td><td>18900000        </td></tr>\n",
              "</tbody>\n",
              "</table>\n"
            ]
          },
          "metadata": {
            "tags": []
          }
        }
      ]
    },
    {
      "cell_type": "code",
      "metadata": {
        "id": "QWr7H1yPpE7s"
      },
      "source": [
        "write.csv(vendas,\"VendasAtualizado2.csv\", row.names = FALSE)"
      ],
      "execution_count": 226,
      "outputs": []
    },
    {
      "cell_type": "code",
      "metadata": {
        "id": "7XzvCk5WpSkD"
      },
      "source": [
        ""
      ],
      "execution_count": null,
      "outputs": []
    }
  ]
}