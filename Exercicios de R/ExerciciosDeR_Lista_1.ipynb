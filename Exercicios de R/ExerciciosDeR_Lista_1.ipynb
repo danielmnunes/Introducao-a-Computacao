{
  "nbformat": 4,
  "nbformat_minor": 0,
  "metadata": {
    "colab": {
      "name": "ExerciciosDeR-Lista 1.ipynb",
      "provenance": [],
      "include_colab_link": true
    },
    "kernelspec": {
      "name": "ir",
      "display_name": "R"
    }
  },
  "cells": [
    {
      "cell_type": "markdown",
      "metadata": {
        "id": "view-in-github",
        "colab_type": "text"
      },
      "source": [
        "<a href=\"https://colab.research.google.com/github/danielmnunes/Introducao-a-Computacao/blob/master/Exercicios%20de%20R/ExerciciosDeR_Lista_1.ipynb\" target=\"_parent\"><img src=\"https://colab.research.google.com/assets/colab-badge.svg\" alt=\"Open In Colab\"/></a>"
      ]
    },
    {
      "cell_type": "markdown",
      "metadata": {
        "id": "WTBYy8qqGXPb"
      },
      "source": [
        "<p><img alt=\"Colaboratory logo\" height=\"150px\" src=\"https://blog-static.infra.grancursosonline.com.br/wp-content/uploads/2015/09/03174643/UFC2.png\" align=\"right\" hspace=\"30px\" vspace=\"0px\"></p>  \n",
        "\n",
        "<h1>\n",
        "<strong> Universidade Federal do Ceará </strong>  <br>\n",
        "Bacheralado em Matemática Industrial  <br>\n",
        "Exercícios de R - Lista 1 <br>\n",
        "Disciplina: Introdução à Computação  <br>\n",
        "Professor: Ronald Targino <br>\n",
        "Aluno: Daniel Magalhães Nunes\n",
        "</h1>"
      ]
    },
    {
      "cell_type": "code",
      "metadata": {
        "id": "wxe1T8-wAAw_"
      },
      "source": [
        "rm(list=ls())"
      ],
      "execution_count": 40,
      "outputs": []
    },
    {
      "cell_type": "code",
      "metadata": {
        "colab": {
          "base_uri": "https://localhost:8080/",
          "height": 87
        },
        "id": "s6gKjsNguCX9",
        "outputId": "b2c596ef-6776-4663-a911-05d99c529446"
      },
      "source": [
        "valor = sample(seq(from = 500, to = 4000, by=100), 100, replace = TRUE)\n",
        "valor"
      ],
      "execution_count": 41,
      "outputs": [
        {
          "output_type": "display_data",
          "data": {
            "text/plain": [
              "  [1] 2500  700 3900 3800 1100 2900 3400 1300 3200 1700 1300 1200  500 3400 1900\n",
              " [16] 1100 1600 2800 1300 1800 2100 1000 2000 2600  500  700 1600 1700 1300 2900\n",
              " [31]  500 2400  900 3700 4000 1600 1400  600 1600 3600 2100 3100  500 1000 3300\n",
              " [46] 3400 3200  700 3600 1600 2700 2000 3900 1400 1300 3600 3200 1700 1200 1600\n",
              " [61] 1000 1500 3300 2500 3000 1500 2500 2200 3900 3300 1200 1300 1600  800 1100\n",
              " [76] 1300 3300 3200 2200  600 3100 2100 3800 1100 3800  500 1300 3200 3100 1900\n",
              " [91] 1400 3900 2100  600 3800  900 2500 1300 3300 2600"
            ],
            "text/latex": "\\begin{enumerate*}\n\\item 2500\n\\item 700\n\\item 3900\n\\item 3800\n\\item 1100\n\\item 2900\n\\item 3400\n\\item 1300\n\\item 3200\n\\item 1700\n\\item 1300\n\\item 1200\n\\item 500\n\\item 3400\n\\item 1900\n\\item 1100\n\\item 1600\n\\item 2800\n\\item 1300\n\\item 1800\n\\item 2100\n\\item 1000\n\\item 2000\n\\item 2600\n\\item 500\n\\item 700\n\\item 1600\n\\item 1700\n\\item 1300\n\\item 2900\n\\item 500\n\\item 2400\n\\item 900\n\\item 3700\n\\item 4000\n\\item 1600\n\\item 1400\n\\item 600\n\\item 1600\n\\item 3600\n\\item 2100\n\\item 3100\n\\item 500\n\\item 1000\n\\item 3300\n\\item 3400\n\\item 3200\n\\item 700\n\\item 3600\n\\item 1600\n\\item 2700\n\\item 2000\n\\item 3900\n\\item 1400\n\\item 1300\n\\item 3600\n\\item 3200\n\\item 1700\n\\item 1200\n\\item 1600\n\\item 1000\n\\item 1500\n\\item 3300\n\\item 2500\n\\item 3000\n\\item 1500\n\\item 2500\n\\item 2200\n\\item 3900\n\\item 3300\n\\item 1200\n\\item 1300\n\\item 1600\n\\item 800\n\\item 1100\n\\item 1300\n\\item 3300\n\\item 3200\n\\item 2200\n\\item 600\n\\item 3100\n\\item 2100\n\\item 3800\n\\item 1100\n\\item 3800\n\\item 500\n\\item 1300\n\\item 3200\n\\item 3100\n\\item 1900\n\\item 1400\n\\item 3900\n\\item 2100\n\\item 600\n\\item 3800\n\\item 900\n\\item 2500\n\\item 1300\n\\item 3300\n\\item 2600\n\\end{enumerate*}\n",
            "text/markdown": "1. 2500\n2. 700\n3. 3900\n4. 3800\n5. 1100\n6. 2900\n7. 3400\n8. 1300\n9. 3200\n10. 1700\n11. 1300\n12. 1200\n13. 500\n14. 3400\n15. 1900\n16. 1100\n17. 1600\n18. 2800\n19. 1300\n20. 1800\n21. 2100\n22. 1000\n23. 2000\n24. 2600\n25. 500\n26. 700\n27. 1600\n28. 1700\n29. 1300\n30. 2900\n31. 500\n32. 2400\n33. 900\n34. 3700\n35. 4000\n36. 1600\n37. 1400\n38. 600\n39. 1600\n40. 3600\n41. 2100\n42. 3100\n43. 500\n44. 1000\n45. 3300\n46. 3400\n47. 3200\n48. 700\n49. 3600\n50. 1600\n51. 2700\n52. 2000\n53. 3900\n54. 1400\n55. 1300\n56. 3600\n57. 3200\n58. 1700\n59. 1200\n60. 1600\n61. 1000\n62. 1500\n63. 3300\n64. 2500\n65. 3000\n66. 1500\n67. 2500\n68. 2200\n69. 3900\n70. 3300\n71. 1200\n72. 1300\n73. 1600\n74. 800\n75. 1100\n76. 1300\n77. 3300\n78. 3200\n79. 2200\n80. 600\n81. 3100\n82. 2100\n83. 3800\n84. 1100\n85. 3800\n86. 500\n87. 1300\n88. 3200\n89. 3100\n90. 1900\n91. 1400\n92. 3900\n93. 2100\n94. 600\n95. 3800\n96. 900\n97. 2500\n98. 1300\n99. 3300\n100. 2600\n\n\n",
            "text/html": [
              "<style>\n",
              ".list-inline {list-style: none; margin:0; padding: 0}\n",
              ".list-inline>li {display: inline-block}\n",
              ".list-inline>li:not(:last-child)::after {content: \"\\00b7\"; padding: 0 .5ex}\n",
              "</style>\n",
              "<ol class=list-inline><li>2500</li><li>700</li><li>3900</li><li>3800</li><li>1100</li><li>2900</li><li>3400</li><li>1300</li><li>3200</li><li>1700</li><li>1300</li><li>1200</li><li>500</li><li>3400</li><li>1900</li><li>1100</li><li>1600</li><li>2800</li><li>1300</li><li>1800</li><li>2100</li><li>1000</li><li>2000</li><li>2600</li><li>500</li><li>700</li><li>1600</li><li>1700</li><li>1300</li><li>2900</li><li>500</li><li>2400</li><li>900</li><li>3700</li><li>4000</li><li>1600</li><li>1400</li><li>600</li><li>1600</li><li>3600</li><li>2100</li><li>3100</li><li>500</li><li>1000</li><li>3300</li><li>3400</li><li>3200</li><li>700</li><li>3600</li><li>1600</li><li>2700</li><li>2000</li><li>3900</li><li>1400</li><li>1300</li><li>3600</li><li>3200</li><li>1700</li><li>1200</li><li>1600</li><li>1000</li><li>1500</li><li>3300</li><li>2500</li><li>3000</li><li>1500</li><li>2500</li><li>2200</li><li>3900</li><li>3300</li><li>1200</li><li>1300</li><li>1600</li><li>800</li><li>1100</li><li>1300</li><li>3300</li><li>3200</li><li>2200</li><li>600</li><li>3100</li><li>2100</li><li>3800</li><li>1100</li><li>3800</li><li>500</li><li>1300</li><li>3200</li><li>3100</li><li>1900</li><li>1400</li><li>3900</li><li>2100</li><li>600</li><li>3800</li><li>900</li><li>2500</li><li>1300</li><li>3300</li><li>2600</li></ol>\n"
            ]
          },
          "metadata": {
            "tags": []
          }
        }
      ]
    },
    {
      "cell_type": "code",
      "metadata": {
        "colab": {
          "base_uri": "https://localhost:8080/",
          "height": 139
        },
        "id": "ZPRwUHFfujzb",
        "outputId": "627a91bd-9840-4b11-d654-bf36e63fc35f"
      },
      "source": [
        "produto = sample( c(\"tv\", \"notebook\", \"impressora\", \"smartphone\"), prob = c(0.3, 0.2, 0.1, 0.4), size = 100, replace = TRUE)\n",
        "produto"
      ],
      "execution_count": 42,
      "outputs": [
        {
          "output_type": "display_data",
          "data": {
            "text/plain": [
              "  [1] \"tv\"         \"notebook\"   \"tv\"         \"smartphone\" \"notebook\"  \n",
              "  [6] \"smartphone\" \"notebook\"   \"tv\"         \"smartphone\" \"tv\"        \n",
              " [11] \"smartphone\" \"tv\"         \"smartphone\" \"tv\"         \"smartphone\"\n",
              " [16] \"smartphone\" \"notebook\"   \"smartphone\" \"smartphone\" \"smartphone\"\n",
              " [21] \"smartphone\" \"smartphone\" \"smartphone\" \"smartphone\" \"tv\"        \n",
              " [26] \"smartphone\" \"impressora\" \"impressora\" \"tv\"         \"smartphone\"\n",
              " [31] \"smartphone\" \"smartphone\" \"notebook\"   \"tv\"         \"smartphone\"\n",
              " [36] \"smartphone\" \"impressora\" \"smartphone\" \"smartphone\" \"notebook\"  \n",
              " [41] \"notebook\"   \"tv\"         \"smartphone\" \"notebook\"   \"smartphone\"\n",
              " [46] \"impressora\" \"smartphone\" \"tv\"         \"notebook\"   \"tv\"        \n",
              " [51] \"impressora\" \"impressora\" \"smartphone\" \"tv\"         \"tv\"        \n",
              " [56] \"tv\"         \"smartphone\" \"smartphone\" \"tv\"         \"smartphone\"\n",
              " [61] \"smartphone\" \"impressora\" \"tv\"         \"notebook\"   \"smartphone\"\n",
              " [66] \"smartphone\" \"tv\"         \"tv\"         \"smartphone\" \"smartphone\"\n",
              " [71] \"smartphone\" \"notebook\"   \"smartphone\" \"smartphone\" \"impressora\"\n",
              " [76] \"smartphone\" \"notebook\"   \"smartphone\" \"smartphone\" \"smartphone\"\n",
              " [81] \"smartphone\" \"impressora\" \"impressora\" \"smartphone\" \"notebook\"  \n",
              " [86] \"tv\"         \"smartphone\" \"tv\"         \"tv\"         \"smartphone\"\n",
              " [91] \"smartphone\" \"notebook\"   \"smartphone\" \"smartphone\" \"smartphone\"\n",
              " [96] \"smartphone\" \"smartphone\" \"tv\"         \"smartphone\" \"smartphone\""
            ],
            "text/latex": "\\begin{enumerate*}\n\\item 'tv'\n\\item 'notebook'\n\\item 'tv'\n\\item 'smartphone'\n\\item 'notebook'\n\\item 'smartphone'\n\\item 'notebook'\n\\item 'tv'\n\\item 'smartphone'\n\\item 'tv'\n\\item 'smartphone'\n\\item 'tv'\n\\item 'smartphone'\n\\item 'tv'\n\\item 'smartphone'\n\\item 'smartphone'\n\\item 'notebook'\n\\item 'smartphone'\n\\item 'smartphone'\n\\item 'smartphone'\n\\item 'smartphone'\n\\item 'smartphone'\n\\item 'smartphone'\n\\item 'smartphone'\n\\item 'tv'\n\\item 'smartphone'\n\\item 'impressora'\n\\item 'impressora'\n\\item 'tv'\n\\item 'smartphone'\n\\item 'smartphone'\n\\item 'smartphone'\n\\item 'notebook'\n\\item 'tv'\n\\item 'smartphone'\n\\item 'smartphone'\n\\item 'impressora'\n\\item 'smartphone'\n\\item 'smartphone'\n\\item 'notebook'\n\\item 'notebook'\n\\item 'tv'\n\\item 'smartphone'\n\\item 'notebook'\n\\item 'smartphone'\n\\item 'impressora'\n\\item 'smartphone'\n\\item 'tv'\n\\item 'notebook'\n\\item 'tv'\n\\item 'impressora'\n\\item 'impressora'\n\\item 'smartphone'\n\\item 'tv'\n\\item 'tv'\n\\item 'tv'\n\\item 'smartphone'\n\\item 'smartphone'\n\\item 'tv'\n\\item 'smartphone'\n\\item 'smartphone'\n\\item 'impressora'\n\\item 'tv'\n\\item 'notebook'\n\\item 'smartphone'\n\\item 'smartphone'\n\\item 'tv'\n\\item 'tv'\n\\item 'smartphone'\n\\item 'smartphone'\n\\item 'smartphone'\n\\item 'notebook'\n\\item 'smartphone'\n\\item 'smartphone'\n\\item 'impressora'\n\\item 'smartphone'\n\\item 'notebook'\n\\item 'smartphone'\n\\item 'smartphone'\n\\item 'smartphone'\n\\item 'smartphone'\n\\item 'impressora'\n\\item 'impressora'\n\\item 'smartphone'\n\\item 'notebook'\n\\item 'tv'\n\\item 'smartphone'\n\\item 'tv'\n\\item 'tv'\n\\item 'smartphone'\n\\item 'smartphone'\n\\item 'notebook'\n\\item 'smartphone'\n\\item 'smartphone'\n\\item 'smartphone'\n\\item 'smartphone'\n\\item 'smartphone'\n\\item 'tv'\n\\item 'smartphone'\n\\item 'smartphone'\n\\end{enumerate*}\n",
            "text/markdown": "1. 'tv'\n2. 'notebook'\n3. 'tv'\n4. 'smartphone'\n5. 'notebook'\n6. 'smartphone'\n7. 'notebook'\n8. 'tv'\n9. 'smartphone'\n10. 'tv'\n11. 'smartphone'\n12. 'tv'\n13. 'smartphone'\n14. 'tv'\n15. 'smartphone'\n16. 'smartphone'\n17. 'notebook'\n18. 'smartphone'\n19. 'smartphone'\n20. 'smartphone'\n21. 'smartphone'\n22. 'smartphone'\n23. 'smartphone'\n24. 'smartphone'\n25. 'tv'\n26. 'smartphone'\n27. 'impressora'\n28. 'impressora'\n29. 'tv'\n30. 'smartphone'\n31. 'smartphone'\n32. 'smartphone'\n33. 'notebook'\n34. 'tv'\n35. 'smartphone'\n36. 'smartphone'\n37. 'impressora'\n38. 'smartphone'\n39. 'smartphone'\n40. 'notebook'\n41. 'notebook'\n42. 'tv'\n43. 'smartphone'\n44. 'notebook'\n45. 'smartphone'\n46. 'impressora'\n47. 'smartphone'\n48. 'tv'\n49. 'notebook'\n50. 'tv'\n51. 'impressora'\n52. 'impressora'\n53. 'smartphone'\n54. 'tv'\n55. 'tv'\n56. 'tv'\n57. 'smartphone'\n58. 'smartphone'\n59. 'tv'\n60. 'smartphone'\n61. 'smartphone'\n62. 'impressora'\n63. 'tv'\n64. 'notebook'\n65. 'smartphone'\n66. 'smartphone'\n67. 'tv'\n68. 'tv'\n69. 'smartphone'\n70. 'smartphone'\n71. 'smartphone'\n72. 'notebook'\n73. 'smartphone'\n74. 'smartphone'\n75. 'impressora'\n76. 'smartphone'\n77. 'notebook'\n78. 'smartphone'\n79. 'smartphone'\n80. 'smartphone'\n81. 'smartphone'\n82. 'impressora'\n83. 'impressora'\n84. 'smartphone'\n85. 'notebook'\n86. 'tv'\n87. 'smartphone'\n88. 'tv'\n89. 'tv'\n90. 'smartphone'\n91. 'smartphone'\n92. 'notebook'\n93. 'smartphone'\n94. 'smartphone'\n95. 'smartphone'\n96. 'smartphone'\n97. 'smartphone'\n98. 'tv'\n99. 'smartphone'\n100. 'smartphone'\n\n\n",
            "text/html": [
              "<style>\n",
              ".list-inline {list-style: none; margin:0; padding: 0}\n",
              ".list-inline>li {display: inline-block}\n",
              ".list-inline>li:not(:last-child)::after {content: \"\\00b7\"; padding: 0 .5ex}\n",
              "</style>\n",
              "<ol class=list-inline><li>'tv'</li><li>'notebook'</li><li>'tv'</li><li>'smartphone'</li><li>'notebook'</li><li>'smartphone'</li><li>'notebook'</li><li>'tv'</li><li>'smartphone'</li><li>'tv'</li><li>'smartphone'</li><li>'tv'</li><li>'smartphone'</li><li>'tv'</li><li>'smartphone'</li><li>'smartphone'</li><li>'notebook'</li><li>'smartphone'</li><li>'smartphone'</li><li>'smartphone'</li><li>'smartphone'</li><li>'smartphone'</li><li>'smartphone'</li><li>'smartphone'</li><li>'tv'</li><li>'smartphone'</li><li>'impressora'</li><li>'impressora'</li><li>'tv'</li><li>'smartphone'</li><li>'smartphone'</li><li>'smartphone'</li><li>'notebook'</li><li>'tv'</li><li>'smartphone'</li><li>'smartphone'</li><li>'impressora'</li><li>'smartphone'</li><li>'smartphone'</li><li>'notebook'</li><li>'notebook'</li><li>'tv'</li><li>'smartphone'</li><li>'notebook'</li><li>'smartphone'</li><li>'impressora'</li><li>'smartphone'</li><li>'tv'</li><li>'notebook'</li><li>'tv'</li><li>'impressora'</li><li>'impressora'</li><li>'smartphone'</li><li>'tv'</li><li>'tv'</li><li>'tv'</li><li>'smartphone'</li><li>'smartphone'</li><li>'tv'</li><li>'smartphone'</li><li>'smartphone'</li><li>'impressora'</li><li>'tv'</li><li>'notebook'</li><li>'smartphone'</li><li>'smartphone'</li><li>'tv'</li><li>'tv'</li><li>'smartphone'</li><li>'smartphone'</li><li>'smartphone'</li><li>'notebook'</li><li>'smartphone'</li><li>'smartphone'</li><li>'impressora'</li><li>'smartphone'</li><li>'notebook'</li><li>'smartphone'</li><li>'smartphone'</li><li>'smartphone'</li><li>'smartphone'</li><li>'impressora'</li><li>'impressora'</li><li>'smartphone'</li><li>'notebook'</li><li>'tv'</li><li>'smartphone'</li><li>'tv'</li><li>'tv'</li><li>'smartphone'</li><li>'smartphone'</li><li>'notebook'</li><li>'smartphone'</li><li>'smartphone'</li><li>'smartphone'</li><li>'smartphone'</li><li>'smartphone'</li><li>'tv'</li><li>'smartphone'</li><li>'smartphone'</li></ol>\n"
            ]
          },
          "metadata": {
            "tags": []
          }
        }
      ]
    },
    {
      "cell_type": "code",
      "metadata": {
        "colab": {
          "base_uri": "https://localhost:8080/",
          "height": 87
        },
        "id": "DYw19JJiulFx",
        "outputId": "13d8a468-e480-4b2d-ab87-78e231fe7b68"
      },
      "source": [
        "quantidade = sample(10:4000, 100)\n",
        "quantidade"
      ],
      "execution_count": 43,
      "outputs": [
        {
          "output_type": "display_data",
          "data": {
            "text/plain": [
              "  [1] 1660 1036 3770 2065 2111 2969 1142  450 3503 3533 3246 2498 3173 2762  341\n",
              " [16] 3546 2906 1921 1113 1505 3262 3658 2119 1271 2323 1208 4000  639 1552 3184\n",
              " [31]  195 3577 1338 2622  150 2559 3543 2829 1850  799 3850  665 2393 3489  687\n",
              " [46] 2862 1685 2363  775 2079 3923 1302  934  319 2614 3748 1693 1511 1108 1726\n",
              " [61] 2073 1873 1407 1836 2697 1019 3105  907 2339 1185 3910  187 2000 3692 2027\n",
              " [76] 3835 3599 2781 2976 3531  732 1054 1386 1336  995 1761 2496 2198 1803 3675\n",
              " [91] 3877 1323 2561 3096 1888 1695 1258 3232 1659  566"
            ],
            "text/latex": "\\begin{enumerate*}\n\\item 1660\n\\item 1036\n\\item 3770\n\\item 2065\n\\item 2111\n\\item 2969\n\\item 1142\n\\item 450\n\\item 3503\n\\item 3533\n\\item 3246\n\\item 2498\n\\item 3173\n\\item 2762\n\\item 341\n\\item 3546\n\\item 2906\n\\item 1921\n\\item 1113\n\\item 1505\n\\item 3262\n\\item 3658\n\\item 2119\n\\item 1271\n\\item 2323\n\\item 1208\n\\item 4000\n\\item 639\n\\item 1552\n\\item 3184\n\\item 195\n\\item 3577\n\\item 1338\n\\item 2622\n\\item 150\n\\item 2559\n\\item 3543\n\\item 2829\n\\item 1850\n\\item 799\n\\item 3850\n\\item 665\n\\item 2393\n\\item 3489\n\\item 687\n\\item 2862\n\\item 1685\n\\item 2363\n\\item 775\n\\item 2079\n\\item 3923\n\\item 1302\n\\item 934\n\\item 319\n\\item 2614\n\\item 3748\n\\item 1693\n\\item 1511\n\\item 1108\n\\item 1726\n\\item 2073\n\\item 1873\n\\item 1407\n\\item 1836\n\\item 2697\n\\item 1019\n\\item 3105\n\\item 907\n\\item 2339\n\\item 1185\n\\item 3910\n\\item 187\n\\item 2000\n\\item 3692\n\\item 2027\n\\item 3835\n\\item 3599\n\\item 2781\n\\item 2976\n\\item 3531\n\\item 732\n\\item 1054\n\\item 1386\n\\item 1336\n\\item 995\n\\item 1761\n\\item 2496\n\\item 2198\n\\item 1803\n\\item 3675\n\\item 3877\n\\item 1323\n\\item 2561\n\\item 3096\n\\item 1888\n\\item 1695\n\\item 1258\n\\item 3232\n\\item 1659\n\\item 566\n\\end{enumerate*}\n",
            "text/markdown": "1. 1660\n2. 1036\n3. 3770\n4. 2065\n5. 2111\n6. 2969\n7. 1142\n8. 450\n9. 3503\n10. 3533\n11. 3246\n12. 2498\n13. 3173\n14. 2762\n15. 341\n16. 3546\n17. 2906\n18. 1921\n19. 1113\n20. 1505\n21. 3262\n22. 3658\n23. 2119\n24. 1271\n25. 2323\n26. 1208\n27. 4000\n28. 639\n29. 1552\n30. 3184\n31. 195\n32. 3577\n33. 1338\n34. 2622\n35. 150\n36. 2559\n37. 3543\n38. 2829\n39. 1850\n40. 799\n41. 3850\n42. 665\n43. 2393\n44. 3489\n45. 687\n46. 2862\n47. 1685\n48. 2363\n49. 775\n50. 2079\n51. 3923\n52. 1302\n53. 934\n54. 319\n55. 2614\n56. 3748\n57. 1693\n58. 1511\n59. 1108\n60. 1726\n61. 2073\n62. 1873\n63. 1407\n64. 1836\n65. 2697\n66. 1019\n67. 3105\n68. 907\n69. 2339\n70. 1185\n71. 3910\n72. 187\n73. 2000\n74. 3692\n75. 2027\n76. 3835\n77. 3599\n78. 2781\n79. 2976\n80. 3531\n81. 732\n82. 1054\n83. 1386\n84. 1336\n85. 995\n86. 1761\n87. 2496\n88. 2198\n89. 1803\n90. 3675\n91. 3877\n92. 1323\n93. 2561\n94. 3096\n95. 1888\n96. 1695\n97. 1258\n98. 3232\n99. 1659\n100. 566\n\n\n",
            "text/html": [
              "<style>\n",
              ".list-inline {list-style: none; margin:0; padding: 0}\n",
              ".list-inline>li {display: inline-block}\n",
              ".list-inline>li:not(:last-child)::after {content: \"\\00b7\"; padding: 0 .5ex}\n",
              "</style>\n",
              "<ol class=list-inline><li>1660</li><li>1036</li><li>3770</li><li>2065</li><li>2111</li><li>2969</li><li>1142</li><li>450</li><li>3503</li><li>3533</li><li>3246</li><li>2498</li><li>3173</li><li>2762</li><li>341</li><li>3546</li><li>2906</li><li>1921</li><li>1113</li><li>1505</li><li>3262</li><li>3658</li><li>2119</li><li>1271</li><li>2323</li><li>1208</li><li>4000</li><li>639</li><li>1552</li><li>3184</li><li>195</li><li>3577</li><li>1338</li><li>2622</li><li>150</li><li>2559</li><li>3543</li><li>2829</li><li>1850</li><li>799</li><li>3850</li><li>665</li><li>2393</li><li>3489</li><li>687</li><li>2862</li><li>1685</li><li>2363</li><li>775</li><li>2079</li><li>3923</li><li>1302</li><li>934</li><li>319</li><li>2614</li><li>3748</li><li>1693</li><li>1511</li><li>1108</li><li>1726</li><li>2073</li><li>1873</li><li>1407</li><li>1836</li><li>2697</li><li>1019</li><li>3105</li><li>907</li><li>2339</li><li>1185</li><li>3910</li><li>187</li><li>2000</li><li>3692</li><li>2027</li><li>3835</li><li>3599</li><li>2781</li><li>2976</li><li>3531</li><li>732</li><li>1054</li><li>1386</li><li>1336</li><li>995</li><li>1761</li><li>2496</li><li>2198</li><li>1803</li><li>3675</li><li>3877</li><li>1323</li><li>2561</li><li>3096</li><li>1888</li><li>1695</li><li>1258</li><li>3232</li><li>1659</li><li>566</li></ol>\n"
            ]
          },
          "metadata": {
            "tags": []
          }
        }
      ]
    },
    {
      "cell_type": "code",
      "metadata": {
        "colab": {
          "base_uri": "https://localhost:8080/",
          "height": 52
        },
        "id": "vEHlHSW2xds8",
        "outputId": "de2554b5-25ef-4d93-e573-841bc223e345"
      },
      "source": [
        "mes = sample(1:12, 100, replace = TRUE)\n",
        "mes"
      ],
      "execution_count": 44,
      "outputs": [
        {
          "output_type": "display_data",
          "data": {
            "text/plain": [
              "  [1]  3  7 12  5  6  9  7  1  1  5  4  9 10  9  5  3  7  8  3 11  6  7  2  5  8\n",
              " [26]  2  3  3  9  6 11  4  1 11 12  3  3  6 10  8  8  8  3  2  4 11  4  2  3  2\n",
              " [51]  8 11  1  9  2  8  8  8  3 11  7  2 12  1  9 12 12  2  5  8 12  8  3  2  6\n",
              " [76] 11  7  9  3  1  9  8 11  4 11  3 10 12 12  7 12  2  2  2  5  2 10  2  3  4"
            ],
            "text/latex": "\\begin{enumerate*}\n\\item 3\n\\item 7\n\\item 12\n\\item 5\n\\item 6\n\\item 9\n\\item 7\n\\item 1\n\\item 1\n\\item 5\n\\item 4\n\\item 9\n\\item 10\n\\item 9\n\\item 5\n\\item 3\n\\item 7\n\\item 8\n\\item 3\n\\item 11\n\\item 6\n\\item 7\n\\item 2\n\\item 5\n\\item 8\n\\item 2\n\\item 3\n\\item 3\n\\item 9\n\\item 6\n\\item 11\n\\item 4\n\\item 1\n\\item 11\n\\item 12\n\\item 3\n\\item 3\n\\item 6\n\\item 10\n\\item 8\n\\item 8\n\\item 8\n\\item 3\n\\item 2\n\\item 4\n\\item 11\n\\item 4\n\\item 2\n\\item 3\n\\item 2\n\\item 8\n\\item 11\n\\item 1\n\\item 9\n\\item 2\n\\item 8\n\\item 8\n\\item 8\n\\item 3\n\\item 11\n\\item 7\n\\item 2\n\\item 12\n\\item 1\n\\item 9\n\\item 12\n\\item 12\n\\item 2\n\\item 5\n\\item 8\n\\item 12\n\\item 8\n\\item 3\n\\item 2\n\\item 6\n\\item 11\n\\item 7\n\\item 9\n\\item 3\n\\item 1\n\\item 9\n\\item 8\n\\item 11\n\\item 4\n\\item 11\n\\item 3\n\\item 10\n\\item 12\n\\item 12\n\\item 7\n\\item 12\n\\item 2\n\\item 2\n\\item 2\n\\item 5\n\\item 2\n\\item 10\n\\item 2\n\\item 3\n\\item 4\n\\end{enumerate*}\n",
            "text/markdown": "1. 3\n2. 7\n3. 12\n4. 5\n5. 6\n6. 9\n7. 7\n8. 1\n9. 1\n10. 5\n11. 4\n12. 9\n13. 10\n14. 9\n15. 5\n16. 3\n17. 7\n18. 8\n19. 3\n20. 11\n21. 6\n22. 7\n23. 2\n24. 5\n25. 8\n26. 2\n27. 3\n28. 3\n29. 9\n30. 6\n31. 11\n32. 4\n33. 1\n34. 11\n35. 12\n36. 3\n37. 3\n38. 6\n39. 10\n40. 8\n41. 8\n42. 8\n43. 3\n44. 2\n45. 4\n46. 11\n47. 4\n48. 2\n49. 3\n50. 2\n51. 8\n52. 11\n53. 1\n54. 9\n55. 2\n56. 8\n57. 8\n58. 8\n59. 3\n60. 11\n61. 7\n62. 2\n63. 12\n64. 1\n65. 9\n66. 12\n67. 12\n68. 2\n69. 5\n70. 8\n71. 12\n72. 8\n73. 3\n74. 2\n75. 6\n76. 11\n77. 7\n78. 9\n79. 3\n80. 1\n81. 9\n82. 8\n83. 11\n84. 4\n85. 11\n86. 3\n87. 10\n88. 12\n89. 12\n90. 7\n91. 12\n92. 2\n93. 2\n94. 2\n95. 5\n96. 2\n97. 10\n98. 2\n99. 3\n100. 4\n\n\n",
            "text/html": [
              "<style>\n",
              ".list-inline {list-style: none; margin:0; padding: 0}\n",
              ".list-inline>li {display: inline-block}\n",
              ".list-inline>li:not(:last-child)::after {content: \"\\00b7\"; padding: 0 .5ex}\n",
              "</style>\n",
              "<ol class=list-inline><li>3</li><li>7</li><li>12</li><li>5</li><li>6</li><li>9</li><li>7</li><li>1</li><li>1</li><li>5</li><li>4</li><li>9</li><li>10</li><li>9</li><li>5</li><li>3</li><li>7</li><li>8</li><li>3</li><li>11</li><li>6</li><li>7</li><li>2</li><li>5</li><li>8</li><li>2</li><li>3</li><li>3</li><li>9</li><li>6</li><li>11</li><li>4</li><li>1</li><li>11</li><li>12</li><li>3</li><li>3</li><li>6</li><li>10</li><li>8</li><li>8</li><li>8</li><li>3</li><li>2</li><li>4</li><li>11</li><li>4</li><li>2</li><li>3</li><li>2</li><li>8</li><li>11</li><li>1</li><li>9</li><li>2</li><li>8</li><li>8</li><li>8</li><li>3</li><li>11</li><li>7</li><li>2</li><li>12</li><li>1</li><li>9</li><li>12</li><li>12</li><li>2</li><li>5</li><li>8</li><li>12</li><li>8</li><li>3</li><li>2</li><li>6</li><li>11</li><li>7</li><li>9</li><li>3</li><li>1</li><li>9</li><li>8</li><li>11</li><li>4</li><li>11</li><li>3</li><li>10</li><li>12</li><li>12</li><li>7</li><li>12</li><li>2</li><li>2</li><li>2</li><li>5</li><li>2</li><li>10</li><li>2</li><li>3</li><li>4</li></ol>\n"
            ]
          },
          "metadata": {
            "tags": []
          }
        }
      ]
    },
    {
      "cell_type": "code",
      "metadata": {
        "colab": {
          "base_uri": "https://localhost:8080/",
          "height": 243
        },
        "id": "JGZOF610yNhn",
        "outputId": "c2f92186-2a4e-40b2-b0c2-a0076ed4f3b1"
      },
      "source": [
        "margem = runif(min = 1.0, max = 35.0, n=100)\n",
        "margem"
      ],
      "execution_count": 46,
      "outputs": [
        {
          "output_type": "display_data",
          "data": {
            "text/plain": [
              "  [1] 28.596983 30.852189 24.949275 30.709243  6.551595  5.393137 16.912891\n",
              "  [8] 23.210277 30.936133 25.562835 25.219912 30.426506 31.504872 11.122717\n",
              " [15] 17.835167  6.589404 34.159905 31.970141 33.567556 33.762334 27.754579\n",
              " [22] 32.154730 24.023019 27.921589 13.265685 20.272144  4.563454 17.583489\n",
              " [29] 15.066423  2.977422 13.479861 15.362557 15.221922  2.366388 28.560211\n",
              " [36] 23.509588 13.628139  4.834292 14.859459 10.011684 22.508959 30.374598\n",
              " [43] 24.729042 12.079344 15.520552 34.690549 28.806430  9.488837 31.641571\n",
              " [50] 19.908834  6.058271  9.882164  7.504039 34.621997 31.735090  3.470161\n",
              " [57] 22.810440 24.202552 17.757998 14.996700 32.912860 16.193243  9.106073\n",
              " [64] 16.621088 23.735465 34.164972  8.542689 22.050116 24.214080  1.981757\n",
              " [71] 15.178079 12.044900 27.100310 34.749205 34.271196 11.108799 27.940462\n",
              " [78] 10.433177 23.397117 31.653223 26.105090 12.944861 10.455914 34.598854\n",
              " [85] 20.784570  1.932008 25.886041  1.729689 24.543383 32.881855 14.347860\n",
              " [92] 22.668630  6.680133 32.641689 16.174158 23.517875 22.885401 29.591005\n",
              " [99] 14.469494 18.300884"
            ],
            "text/latex": "\\begin{enumerate*}\n\\item 28.5969832167029\n\\item 30.8521891357377\n\\item 24.9492748300545\n\\item 30.7092425161973\n\\item 6.55159510858357\n\\item 5.3931367280893\n\\item 16.9128908817656\n\\item 23.2102770777419\n\\item 30.9361334713176\n\\item 25.5628349524923\n\\item 25.2199120777659\n\\item 30.426506313961\n\\item 31.5048719746992\n\\item 11.1227169064805\n\\item 17.8351669348776\n\\item 6.58940376061946\n\\item 34.1599047179334\n\\item 31.9701405260712\n\\item 33.567556118127\n\\item 33.7623339435086\n\\item 27.7545794160105\n\\item 32.1547296731733\n\\item 24.0230185776018\n\\item 27.9215889726765\n\\item 13.2656850973144\n\\item 20.2721435814165\n\\item 4.56345423310995\n\\item 17.5834894110449\n\\item 15.0664233379066\n\\item 2.9774215715006\n\\item 13.4798609372228\n\\item 15.3625573441386\n\\item 15.2219222118147\n\\item 2.36638793349266\n\\item 28.560210974887\n\\item 23.5095875710249\n\\item 13.6281386232004\n\\item 4.83429219713435\n\\item 14.8594586085528\n\\item 10.0116840661503\n\\item 22.508958526887\n\\item 30.374597940594\n\\item 24.7290423763916\n\\item 12.0793440979905\n\\item 15.5205516233109\n\\item 34.6905489829369\n\\item 28.8064301391132\n\\item 9.48883675318211\n\\item 31.641570518259\n\\item 19.9088337081484\n\\item 6.05827098432928\n\\item 9.88216365408152\n\\item 7.50403881957754\n\\item 34.6219966397621\n\\item 31.7350902133621\n\\item 3.47016121586785\n\\item 22.8104395428672\n\\item 24.2025520247407\n\\item 17.7579982532188\n\\item 14.9966999529861\n\\item 32.9128595613874\n\\item 16.1932434681803\n\\item 9.10607349919155\n\\item 16.6210878198035\n\\item 23.7354653975926\n\\item 34.1649716035463\n\\item 8.54268903518096\n\\item 22.0501163965091\n\\item 24.214079901576\n\\item 1.98175742803141\n\\item 15.1780793410726\n\\item 12.0449002524838\n\\item 27.1003100592643\n\\item 34.7492053192109\n\\item 34.2711962414905\n\\item 11.1087993141264\n\\item 27.9404617049731\n\\item 10.4331772327423\n\\item 23.39711727947\n\\item 31.6532232183963\n\\item 26.1050904840231\n\\item 12.9448614013381\n\\item 10.4559143101797\n\\item 34.598853981588\n\\item 20.784570206888\n\\item 1.93200822547078\n\\item 25.8860408277251\n\\item 1.72968928515911\n\\item 24.5433834996074\n\\item 32.8818553150631\n\\item 14.3478600140661\n\\item 22.6686301231384\n\\item 6.68013251340017\n\\item 32.6416894239374\n\\item 16.1741575831547\n\\item 23.517874578014\n\\item 22.8854005350731\n\\item 29.5910050249659\n\\item 14.4694939334877\n\\item 18.3008840680122\n\\end{enumerate*}\n",
            "text/markdown": "1. 28.5969832167029\n2. 30.8521891357377\n3. 24.9492748300545\n4. 30.7092425161973\n5. 6.55159510858357\n6. 5.3931367280893\n7. 16.9128908817656\n8. 23.2102770777419\n9. 30.9361334713176\n10. 25.5628349524923\n11. 25.2199120777659\n12. 30.426506313961\n13. 31.5048719746992\n14. 11.1227169064805\n15. 17.8351669348776\n16. 6.58940376061946\n17. 34.1599047179334\n18. 31.9701405260712\n19. 33.567556118127\n20. 33.7623339435086\n21. 27.7545794160105\n22. 32.1547296731733\n23. 24.0230185776018\n24. 27.9215889726765\n25. 13.2656850973144\n26. 20.2721435814165\n27. 4.56345423310995\n28. 17.5834894110449\n29. 15.0664233379066\n30. 2.9774215715006\n31. 13.4798609372228\n32. 15.3625573441386\n33. 15.2219222118147\n34. 2.36638793349266\n35. 28.560210974887\n36. 23.5095875710249\n37. 13.6281386232004\n38. 4.83429219713435\n39. 14.8594586085528\n40. 10.0116840661503\n41. 22.508958526887\n42. 30.374597940594\n43. 24.7290423763916\n44. 12.0793440979905\n45. 15.5205516233109\n46. 34.6905489829369\n47. 28.8064301391132\n48. 9.48883675318211\n49. 31.641570518259\n50. 19.9088337081484\n51. 6.05827098432928\n52. 9.88216365408152\n53. 7.50403881957754\n54. 34.6219966397621\n55. 31.7350902133621\n56. 3.47016121586785\n57. 22.8104395428672\n58. 24.2025520247407\n59. 17.7579982532188\n60. 14.9966999529861\n61. 32.9128595613874\n62. 16.1932434681803\n63. 9.10607349919155\n64. 16.6210878198035\n65. 23.7354653975926\n66. 34.1649716035463\n67. 8.54268903518096\n68. 22.0501163965091\n69. 24.214079901576\n70. 1.98175742803141\n71. 15.1780793410726\n72. 12.0449002524838\n73. 27.1003100592643\n74. 34.7492053192109\n75. 34.2711962414905\n76. 11.1087993141264\n77. 27.9404617049731\n78. 10.4331772327423\n79. 23.39711727947\n80. 31.6532232183963\n81. 26.1050904840231\n82. 12.9448614013381\n83. 10.4559143101797\n84. 34.598853981588\n85. 20.784570206888\n86. 1.93200822547078\n87. 25.8860408277251\n88. 1.72968928515911\n89. 24.5433834996074\n90. 32.8818553150631\n91. 14.3478600140661\n92. 22.6686301231384\n93. 6.68013251340017\n94. 32.6416894239374\n95. 16.1741575831547\n96. 23.517874578014\n97. 22.8854005350731\n98. 29.5910050249659\n99. 14.4694939334877\n100. 18.3008840680122\n\n\n",
            "text/html": [
              "<style>\n",
              ".list-inline {list-style: none; margin:0; padding: 0}\n",
              ".list-inline>li {display: inline-block}\n",
              ".list-inline>li:not(:last-child)::after {content: \"\\00b7\"; padding: 0 .5ex}\n",
              "</style>\n",
              "<ol class=list-inline><li>28.5969832167029</li><li>30.8521891357377</li><li>24.9492748300545</li><li>30.7092425161973</li><li>6.55159510858357</li><li>5.3931367280893</li><li>16.9128908817656</li><li>23.2102770777419</li><li>30.9361334713176</li><li>25.5628349524923</li><li>25.2199120777659</li><li>30.426506313961</li><li>31.5048719746992</li><li>11.1227169064805</li><li>17.8351669348776</li><li>6.58940376061946</li><li>34.1599047179334</li><li>31.9701405260712</li><li>33.567556118127</li><li>33.7623339435086</li><li>27.7545794160105</li><li>32.1547296731733</li><li>24.0230185776018</li><li>27.9215889726765</li><li>13.2656850973144</li><li>20.2721435814165</li><li>4.56345423310995</li><li>17.5834894110449</li><li>15.0664233379066</li><li>2.9774215715006</li><li>13.4798609372228</li><li>15.3625573441386</li><li>15.2219222118147</li><li>2.36638793349266</li><li>28.560210974887</li><li>23.5095875710249</li><li>13.6281386232004</li><li>4.83429219713435</li><li>14.8594586085528</li><li>10.0116840661503</li><li>22.508958526887</li><li>30.374597940594</li><li>24.7290423763916</li><li>12.0793440979905</li><li>15.5205516233109</li><li>34.6905489829369</li><li>28.8064301391132</li><li>9.48883675318211</li><li>31.641570518259</li><li>19.9088337081484</li><li>6.05827098432928</li><li>9.88216365408152</li><li>7.50403881957754</li><li>34.6219966397621</li><li>31.7350902133621</li><li>3.47016121586785</li><li>22.8104395428672</li><li>24.2025520247407</li><li>17.7579982532188</li><li>14.9966999529861</li><li>32.9128595613874</li><li>16.1932434681803</li><li>9.10607349919155</li><li>16.6210878198035</li><li>23.7354653975926</li><li>34.1649716035463</li><li>8.54268903518096</li><li>22.0501163965091</li><li>24.214079901576</li><li>1.98175742803141</li><li>15.1780793410726</li><li>12.0449002524838</li><li>27.1003100592643</li><li>34.7492053192109</li><li>34.2711962414905</li><li>11.1087993141264</li><li>27.9404617049731</li><li>10.4331772327423</li><li>23.39711727947</li><li>31.6532232183963</li><li>26.1050904840231</li><li>12.9448614013381</li><li>10.4559143101797</li><li>34.598853981588</li><li>20.784570206888</li><li>1.93200822547078</li><li>25.8860408277251</li><li>1.72968928515911</li><li>24.5433834996074</li><li>32.8818553150631</li><li>14.3478600140661</li><li>22.6686301231384</li><li>6.68013251340017</li><li>32.6416894239374</li><li>16.1741575831547</li><li>23.517874578014</li><li>22.8854005350731</li><li>29.5910050249659</li><li>14.4694939334877</li><li>18.3008840680122</li></ol>\n"
            ]
          },
          "metadata": {
            "tags": []
          }
        }
      ]
    },
    {
      "cell_type": "code",
      "metadata": {
        "colab": {
          "base_uri": "https://localhost:8080/",
          "height": 87
        },
        "id": "E-LFfxnfyh3h",
        "outputId": "012ca3db-5b54-49ef-b4eb-e556c6914dd6"
      },
      "source": [
        "ano = sample(c(2017, 2018, 2019), prob = c(0.5, 0.2, 0.3), 100,replace = TRUE)\n",
        "ano"
      ],
      "execution_count": 47,
      "outputs": [
        {
          "output_type": "display_data",
          "data": {
            "text/plain": [
              "  [1] 2017 2018 2018 2017 2019 2019 2019 2018 2019 2017 2019 2018 2017 2017 2019\n",
              " [16] 2017 2017 2019 2017 2018 2019 2017 2017 2018 2018 2019 2018 2018 2019 2017\n",
              " [31] 2019 2017 2017 2017 2017 2017 2017 2019 2019 2017 2018 2017 2019 2017 2019\n",
              " [46] 2019 2019 2017 2019 2017 2017 2019 2017 2017 2017 2019 2017 2017 2017 2019\n",
              " [61] 2017 2017 2018 2018 2017 2017 2017 2017 2017 2019 2018 2019 2017 2017 2017\n",
              " [76] 2019 2018 2017 2017 2019 2019 2019 2017 2019 2018 2017 2018 2017 2017 2017\n",
              " [91] 2019 2019 2017 2017 2017 2018 2017 2019 2017 2017"
            ],
            "text/latex": "\\begin{enumerate*}\n\\item 2017\n\\item 2018\n\\item 2018\n\\item 2017\n\\item 2019\n\\item 2019\n\\item 2019\n\\item 2018\n\\item 2019\n\\item 2017\n\\item 2019\n\\item 2018\n\\item 2017\n\\item 2017\n\\item 2019\n\\item 2017\n\\item 2017\n\\item 2019\n\\item 2017\n\\item 2018\n\\item 2019\n\\item 2017\n\\item 2017\n\\item 2018\n\\item 2018\n\\item 2019\n\\item 2018\n\\item 2018\n\\item 2019\n\\item 2017\n\\item 2019\n\\item 2017\n\\item 2017\n\\item 2017\n\\item 2017\n\\item 2017\n\\item 2017\n\\item 2019\n\\item 2019\n\\item 2017\n\\item 2018\n\\item 2017\n\\item 2019\n\\item 2017\n\\item 2019\n\\item 2019\n\\item 2019\n\\item 2017\n\\item 2019\n\\item 2017\n\\item 2017\n\\item 2019\n\\item 2017\n\\item 2017\n\\item 2017\n\\item 2019\n\\item 2017\n\\item 2017\n\\item 2017\n\\item 2019\n\\item 2017\n\\item 2017\n\\item 2018\n\\item 2018\n\\item 2017\n\\item 2017\n\\item 2017\n\\item 2017\n\\item 2017\n\\item 2019\n\\item 2018\n\\item 2019\n\\item 2017\n\\item 2017\n\\item 2017\n\\item 2019\n\\item 2018\n\\item 2017\n\\item 2017\n\\item 2019\n\\item 2019\n\\item 2019\n\\item 2017\n\\item 2019\n\\item 2018\n\\item 2017\n\\item 2018\n\\item 2017\n\\item 2017\n\\item 2017\n\\item 2019\n\\item 2019\n\\item 2017\n\\item 2017\n\\item 2017\n\\item 2018\n\\item 2017\n\\item 2019\n\\item 2017\n\\item 2017\n\\end{enumerate*}\n",
            "text/markdown": "1. 2017\n2. 2018\n3. 2018\n4. 2017\n5. 2019\n6. 2019\n7. 2019\n8. 2018\n9. 2019\n10. 2017\n11. 2019\n12. 2018\n13. 2017\n14. 2017\n15. 2019\n16. 2017\n17. 2017\n18. 2019\n19. 2017\n20. 2018\n21. 2019\n22. 2017\n23. 2017\n24. 2018\n25. 2018\n26. 2019\n27. 2018\n28. 2018\n29. 2019\n30. 2017\n31. 2019\n32. 2017\n33. 2017\n34. 2017\n35. 2017\n36. 2017\n37. 2017\n38. 2019\n39. 2019\n40. 2017\n41. 2018\n42. 2017\n43. 2019\n44. 2017\n45. 2019\n46. 2019\n47. 2019\n48. 2017\n49. 2019\n50. 2017\n51. 2017\n52. 2019\n53. 2017\n54. 2017\n55. 2017\n56. 2019\n57. 2017\n58. 2017\n59. 2017\n60. 2019\n61. 2017\n62. 2017\n63. 2018\n64. 2018\n65. 2017\n66. 2017\n67. 2017\n68. 2017\n69. 2017\n70. 2019\n71. 2018\n72. 2019\n73. 2017\n74. 2017\n75. 2017\n76. 2019\n77. 2018\n78. 2017\n79. 2017\n80. 2019\n81. 2019\n82. 2019\n83. 2017\n84. 2019\n85. 2018\n86. 2017\n87. 2018\n88. 2017\n89. 2017\n90. 2017\n91. 2019\n92. 2019\n93. 2017\n94. 2017\n95. 2017\n96. 2018\n97. 2017\n98. 2019\n99. 2017\n100. 2017\n\n\n",
            "text/html": [
              "<style>\n",
              ".list-inline {list-style: none; margin:0; padding: 0}\n",
              ".list-inline>li {display: inline-block}\n",
              ".list-inline>li:not(:last-child)::after {content: \"\\00b7\"; padding: 0 .5ex}\n",
              "</style>\n",
              "<ol class=list-inline><li>2017</li><li>2018</li><li>2018</li><li>2017</li><li>2019</li><li>2019</li><li>2019</li><li>2018</li><li>2019</li><li>2017</li><li>2019</li><li>2018</li><li>2017</li><li>2017</li><li>2019</li><li>2017</li><li>2017</li><li>2019</li><li>2017</li><li>2018</li><li>2019</li><li>2017</li><li>2017</li><li>2018</li><li>2018</li><li>2019</li><li>2018</li><li>2018</li><li>2019</li><li>2017</li><li>2019</li><li>2017</li><li>2017</li><li>2017</li><li>2017</li><li>2017</li><li>2017</li><li>2019</li><li>2019</li><li>2017</li><li>2018</li><li>2017</li><li>2019</li><li>2017</li><li>2019</li><li>2019</li><li>2019</li><li>2017</li><li>2019</li><li>2017</li><li>2017</li><li>2019</li><li>2017</li><li>2017</li><li>2017</li><li>2019</li><li>2017</li><li>2017</li><li>2017</li><li>2019</li><li>2017</li><li>2017</li><li>2018</li><li>2018</li><li>2017</li><li>2017</li><li>2017</li><li>2017</li><li>2017</li><li>2019</li><li>2018</li><li>2019</li><li>2017</li><li>2017</li><li>2017</li><li>2019</li><li>2018</li><li>2017</li><li>2017</li><li>2019</li><li>2019</li><li>2019</li><li>2017</li><li>2019</li><li>2018</li><li>2017</li><li>2018</li><li>2017</li><li>2017</li><li>2017</li><li>2019</li><li>2019</li><li>2017</li><li>2017</li><li>2017</li><li>2018</li><li>2017</li><li>2019</li><li>2017</li><li>2017</li></ol>\n"
            ]
          },
          "metadata": {
            "tags": []
          }
        }
      ]
    },
    {
      "cell_type": "code",
      "metadata": {
        "colab": {
          "base_uri": "https://localhost:8080/",
          "height": 35
        },
        "id": "_CumKScDy6we",
        "outputId": "daf1e3ac-8221-4bc6-8391-cf3a5e616484"
      },
      "source": [
        "ls()"
      ],
      "execution_count": 48,
      "outputs": [
        {
          "output_type": "display_data",
          "data": {
            "text/plain": [
              "[1] \"ano\"        \"margem\"     \"mes\"        \"produto\"    \"quantidade\"\n",
              "[6] \"valor\"     "
            ],
            "text/latex": "\\begin{enumerate*}\n\\item 'ano'\n\\item 'margem'\n\\item 'mes'\n\\item 'produto'\n\\item 'quantidade'\n\\item 'valor'\n\\end{enumerate*}\n",
            "text/markdown": "1. 'ano'\n2. 'margem'\n3. 'mes'\n4. 'produto'\n5. 'quantidade'\n6. 'valor'\n\n\n",
            "text/html": [
              "<style>\n",
              ".list-inline {list-style: none; margin:0; padding: 0}\n",
              ".list-inline>li {display: inline-block}\n",
              ".list-inline>li:not(:last-child)::after {content: \"\\00b7\"; padding: 0 .5ex}\n",
              "</style>\n",
              "<ol class=list-inline><li>'ano'</li><li>'margem'</li><li>'mes'</li><li>'produto'</li><li>'quantidade'</li><li>'valor'</li></ol>\n"
            ]
          },
          "metadata": {
            "tags": []
          }
        }
      ]
    },
    {
      "cell_type": "code",
      "metadata": {
        "id": "ZiOg01TLzL-M"
      },
      "source": [
        "vendas =  data.frame(ano, mes, produto,quantidade, valor, margem)"
      ],
      "execution_count": 49,
      "outputs": []
    },
    {
      "cell_type": "code",
      "metadata": {
        "id": "fpsnjIAA0CNp"
      },
      "source": [
        "rm(ano, mes, produto, quantidade, valor, margem)"
      ],
      "execution_count": 50,
      "outputs": []
    },
    {
      "cell_type": "code",
      "metadata": {
        "colab": {
          "base_uri": "https://localhost:8080/",
          "height": 35
        },
        "id": "NqOTN8T80aLX",
        "outputId": "fb0712c5-8dcd-45db-8bf4-049f43f72f5a"
      },
      "source": [
        "ls()"
      ],
      "execution_count": 51,
      "outputs": [
        {
          "output_type": "display_data",
          "data": {
            "text/plain": [
              "[1] \"vendas\""
            ],
            "text/latex": "'vendas'",
            "text/markdown": "'vendas'",
            "text/html": [
              "'vendas'"
            ]
          },
          "metadata": {
            "tags": []
          }
        }
      ]
    },
    {
      "cell_type": "code",
      "metadata": {
        "id": "--8JKQpq0cXY"
      },
      "source": [
        "vendas$lucro = vendas$quantidade *  vendas$valor * vendas$margem"
      ],
      "execution_count": 54,
      "outputs": []
    },
    {
      "cell_type": "code",
      "metadata": {
        "colab": {
          "base_uri": "https://localhost:8080/",
          "height": 250
        },
        "id": "axngGVLS3Ses",
        "outputId": "d7fcbb75-f1ec-4344-b916-e4ee9d7e5abc"
      },
      "source": [
        "head(vendas, 5)"
      ],
      "execution_count": 56,
      "outputs": [
        {
          "output_type": "display_data",
          "data": {
            "text/plain": [
              "  ano  mes produto    quantidade valor margem    lucro    \n",
              "1 2017  3  tv         1660       2500  28.596983 118677480\n",
              "2 2018  7  notebook   1036        700  30.852189  22374008\n",
              "3 2018 12  tv         3770       3900  24.949275 366829188\n",
              "4 2017  5  smartphone 2065       3800  30.709243 240975426\n",
              "5 2019  6  notebook   2111       1100   6.551595  15213459"
            ],
            "text/latex": "A data.frame: 5 × 7\n\\begin{tabular}{r|lllllll}\n  & ano & mes & produto & quantidade & valor & margem & lucro\\\\\n  & <dbl> & <int> & <chr> & <int> & <dbl> & <dbl> & <dbl>\\\\\n\\hline\n\t1 & 2017 &  3 & tv         & 1660 & 2500 & 28.596983 & 118677480\\\\\n\t2 & 2018 &  7 & notebook   & 1036 &  700 & 30.852189 &  22374008\\\\\n\t3 & 2018 & 12 & tv         & 3770 & 3900 & 24.949275 & 366829188\\\\\n\t4 & 2017 &  5 & smartphone & 2065 & 3800 & 30.709243 & 240975426\\\\\n\t5 & 2019 &  6 & notebook   & 2111 & 1100 &  6.551595 &  15213459\\\\\n\\end{tabular}\n",
            "text/markdown": "\nA data.frame: 5 × 7\n\n| <!--/--> | ano &lt;dbl&gt; | mes &lt;int&gt; | produto &lt;chr&gt; | quantidade &lt;int&gt; | valor &lt;dbl&gt; | margem &lt;dbl&gt; | lucro &lt;dbl&gt; |\n|---|---|---|---|---|---|---|---|\n| 1 | 2017 |  3 | tv         | 1660 | 2500 | 28.596983 | 118677480 |\n| 2 | 2018 |  7 | notebook   | 1036 |  700 | 30.852189 |  22374008 |\n| 3 | 2018 | 12 | tv         | 3770 | 3900 | 24.949275 | 366829188 |\n| 4 | 2017 |  5 | smartphone | 2065 | 3800 | 30.709243 | 240975426 |\n| 5 | 2019 |  6 | notebook   | 2111 | 1100 |  6.551595 |  15213459 |\n\n",
            "text/html": [
              "<table class=\"dataframe\">\n",
              "<caption>A data.frame: 5 × 7</caption>\n",
              "<thead>\n",
              "\t<tr><th></th><th scope=col>ano</th><th scope=col>mes</th><th scope=col>produto</th><th scope=col>quantidade</th><th scope=col>valor</th><th scope=col>margem</th><th scope=col>lucro</th></tr>\n",
              "\t<tr><th></th><th scope=col>&lt;dbl&gt;</th><th scope=col>&lt;int&gt;</th><th scope=col>&lt;chr&gt;</th><th scope=col>&lt;int&gt;</th><th scope=col>&lt;dbl&gt;</th><th scope=col>&lt;dbl&gt;</th><th scope=col>&lt;dbl&gt;</th></tr>\n",
              "</thead>\n",
              "<tbody>\n",
              "\t<tr><th scope=row>1</th><td>2017</td><td> 3</td><td>tv        </td><td>1660</td><td>2500</td><td>28.596983</td><td>118677480</td></tr>\n",
              "\t<tr><th scope=row>2</th><td>2018</td><td> 7</td><td>notebook  </td><td>1036</td><td> 700</td><td>30.852189</td><td> 22374008</td></tr>\n",
              "\t<tr><th scope=row>3</th><td>2018</td><td>12</td><td>tv        </td><td>3770</td><td>3900</td><td>24.949275</td><td>366829188</td></tr>\n",
              "\t<tr><th scope=row>4</th><td>2017</td><td> 5</td><td>smartphone</td><td>2065</td><td>3800</td><td>30.709243</td><td>240975426</td></tr>\n",
              "\t<tr><th scope=row>5</th><td>2019</td><td> 6</td><td>notebook  </td><td>2111</td><td>1100</td><td> 6.551595</td><td> 15213459</td></tr>\n",
              "</tbody>\n",
              "</table>\n"
            ]
          },
          "metadata": {
            "tags": []
          }
        }
      ]
    },
    {
      "cell_type": "code",
      "metadata": {
        "colab": {
          "base_uri": "https://localhost:8080/",
          "height": 35
        },
        "id": "echAHfmb3xpf",
        "outputId": "4ed70273-051c-4a2f-bf28-8793fcc0c84a"
      },
      "source": [
        "ls()"
      ],
      "execution_count": 57,
      "outputs": [
        {
          "output_type": "display_data",
          "data": {
            "text/plain": [
              "[1] \"vendas\""
            ],
            "text/latex": "'vendas'",
            "text/markdown": "'vendas'",
            "text/html": [
              "'vendas'"
            ]
          },
          "metadata": {
            "tags": []
          }
        }
      ]
    },
    {
      "cell_type": "code",
      "metadata": {
        "colab": {
          "base_uri": "https://localhost:8080/"
        },
        "id": "kwW2QD_h4DLe",
        "outputId": "1caad893-44d5-4b94-ce51-9c8a5ccb746e"
      },
      "source": [
        "install.packages(\"dplyr\");"
      ],
      "execution_count": 61,
      "outputs": [
        {
          "output_type": "stream",
          "text": [
            "Installing package into ‘/usr/local/lib/R/site-library’\n",
            "(as ‘lib’ is unspecified)\n",
            "\n"
          ],
          "name": "stderr"
        }
      ]
    },
    {
      "cell_type": "code",
      "metadata": {
        "id": "kFgjL6m_6F6H"
      },
      "source": [
        "library(dplyr);"
      ],
      "execution_count": 60,
      "outputs": []
    },
    {
      "cell_type": "code",
      "metadata": {
        "colab": {
          "base_uri": "https://localhost:8080/",
          "height": 189
        },
        "id": "ullzG1Sm6LME",
        "outputId": "e9bd6f39-19a1-45f0-fb77-1899f18f6f57"
      },
      "source": [
        "vendas %>% group_by(ano) %>% summarise( min(lucro) , mean(lucro), median(lucro), max(lucro), sd(lucro))"
      ],
      "execution_count": 85,
      "outputs": [
        {
          "output_type": "display_data",
          "data": {
            "text/plain": [
              "  ano  min(lucro) mean(lucro) median(lucro) max(lucro) sd(lucro)\n",
              "1 2017  1701133   80170753    66268684      240975426   57879517\n",
              "2 2018 13578012   96676756    76290793      366829188  104117453\n",
              "3 2019  1314286   77617802    46822191      346781682   86197727"
            ],
            "text/latex": "A tibble: 3 × 6\n\\begin{tabular}{r|llllll}\n  & ano & min(lucro) & mean(lucro) & median(lucro) & max(lucro) & sd(lucro)\\\\\n  & <dbl> & <dbl> & <dbl> & <dbl> & <dbl> & <dbl>\\\\\n\\hline\n\t1 & 2017 &  1701133 & 80170753 & 66268684 & 240975426 &  57879517\\\\\n\t2 & 2018 & 13578012 & 96676756 & 76290793 & 366829188 & 104117453\\\\\n\t3 & 2019 &  1314286 & 77617802 & 46822191 & 346781682 &  86197727\\\\\n\\end{tabular}\n",
            "text/markdown": "\nA tibble: 3 × 6\n\n| <!--/--> | ano &lt;dbl&gt; | min(lucro) &lt;dbl&gt; | mean(lucro) &lt;dbl&gt; | median(lucro) &lt;dbl&gt; | max(lucro) &lt;dbl&gt; | sd(lucro) &lt;dbl&gt; |\n|---|---|---|---|---|---|---|\n| 1 | 2017 |  1701133 | 80170753 | 66268684 | 240975426 |  57879517 |\n| 2 | 2018 | 13578012 | 96676756 | 76290793 | 366829188 | 104117453 |\n| 3 | 2019 |  1314286 | 77617802 | 46822191 | 346781682 |  86197727 |\n\n",
            "text/html": [
              "<table class=\"dataframe\">\n",
              "<caption>A tibble: 3 × 6</caption>\n",
              "<thead>\n",
              "\t<tr><th></th><th scope=col>ano</th><th scope=col>min(lucro)</th><th scope=col>mean(lucro)</th><th scope=col>median(lucro)</th><th scope=col>max(lucro)</th><th scope=col>sd(lucro)</th></tr>\n",
              "\t<tr><th></th><th scope=col>&lt;dbl&gt;</th><th scope=col>&lt;dbl&gt;</th><th scope=col>&lt;dbl&gt;</th><th scope=col>&lt;dbl&gt;</th><th scope=col>&lt;dbl&gt;</th><th scope=col>&lt;dbl&gt;</th></tr>\n",
              "</thead>\n",
              "<tbody>\n",
              "\t<tr><th scope=row>1</th><td>2017</td><td> 1701133</td><td>80170753</td><td>66268684</td><td>240975426</td><td> 57879517</td></tr>\n",
              "\t<tr><th scope=row>2</th><td>2018</td><td>13578012</td><td>96676756</td><td>76290793</td><td>366829188</td><td>104117453</td></tr>\n",
              "\t<tr><th scope=row>3</th><td>2019</td><td> 1314286</td><td>77617802</td><td>46822191</td><td>346781682</td><td> 86197727</td></tr>\n",
              "</tbody>\n",
              "</table>\n"
            ]
          },
          "metadata": {
            "tags": []
          }
        }
      ]
    },
    {
      "cell_type": "code",
      "metadata": {
        "id": "_KXbP_X5_xol"
      },
      "source": [
        "stats_lucro = vendas %>% group_by(ano) %>% summarise( min(lucro) , mean(lucro), median(lucro), max(lucro), sd(lucro))"
      ],
      "execution_count": 86,
      "outputs": []
    },
    {
      "cell_type": "code",
      "metadata": {
        "id": "0X9Vy8OmJwqz"
      },
      "source": [
        "lucro2017 = vendas %>% filter(ano == 2017)\n",
        "lucro2018 = vendas %>% filter(ano == 2018)\n",
        "lucro2019 = vendas %>% filter(ano == 2019)"
      ],
      "execution_count": 89,
      "outputs": []
    },
    {
      "cell_type": "code",
      "metadata": {
        "colab": {
          "base_uri": "https://localhost:8080/",
          "height": 1000
        },
        "id": "hHF-1KJeLP9G",
        "outputId": "50076a34-f789-4b30-91b7-692a1de7671b"
      },
      "source": [
        "hist(lucro2017$lucro)\n",
        "hist(lucro2018$lucro)\n",
        "hist(lucro2019$lucro)"
      ],
      "execution_count": 105,
      "outputs": [
        {
          "output_type": "display_data",
          "data": {
            "image/png": "[encoded data removed]",
            "text/plain": [
              "Plot with title “Histogram of lucro2017$lucro”"
            ]
          },
          "metadata": {
            "tags": [],
            "image/png": {
              "width": 420,
              "height": 420
            }
          }
        },
        {
          "output_type": "display_data",
          "data": {
            "image/png": "[encoded data removed]",
            "text/plain": [
              "Plot with title “Histogram of lucro2018$lucro”"
            ]
          },
          "metadata": {
            "tags": [],
            "image/png": {
              "width": 420,
              "height": 420
            }
          }
        },
        {
          "output_type": "display_data",
          "data": {
            "image/png": "[encoded data removed]",
            "text/plain": [
              "Plot with title “Histogram of lucro2019$lucro”"
            ]
          },
          "metadata": {
            "tags": [],
            "image/png": {
              "width": 420,
              "height": 420
            }
          }
        }
      ]
    },
    {
      "cell_type": "code",
      "metadata": {
        "colab": {
          "base_uri": "https://localhost:8080/",
          "height": 437
        },
        "id": "ZHGVQYuMNlN0",
        "outputId": "d6a7449b-24a8-4e29-fcaa-66347d013dee"
      },
      "source": [
        "boxplot(vendas$lucro ~ vendas$ano)"
      ],
      "execution_count": 112,
      "outputs": [
        {
          "output_type": "display_data",
          "data": {
            "image/png": "[encoded data removed]",
            "text/plain": [
              "plot without title"
            ]
          },
          "metadata": {
            "tags": [],
            "image/png": {
              "width": 420,
              "height": 420
            }
          }
        }
      ]
    },
    {
      "cell_type": "code",
      "metadata": {
        "id": "a9vLk6vcQfRI"
      },
      "source": [
        ""
      ],
      "execution_count": null,
      "outputs": []
    }
  ]
}